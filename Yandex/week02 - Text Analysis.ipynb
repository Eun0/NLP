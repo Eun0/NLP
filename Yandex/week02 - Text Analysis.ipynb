{
  "nbformat": 4,
  "nbformat_minor": 0,
  "metadata": {
    "colab": {
      "name": "week02 - Text Analysis.ipynb",
      "version": "0.3.2",
      "provenance": []
    },
    "kernelspec": {
      "name": "python3",
      "display_name": "Python 3"
    },
    "accelerator": "TPU"
  },
  "cells": [
    {
      "metadata": {
        "id": "K7JmpoPtkrgY",
        "colab_type": "text"
      },
      "cell_type": "markdown",
      "source": [
        "# This script demonstrates Large scale text analysis with deep learning\n",
        "\n",
        "## Name : Eun-Yeong Jeon\n",
        "\n",
        "## github : https://github.com/Eun0/NLP/tree/master/Yandex\n",
        "\n",
        "## sources : https://github.com/yandexdataschool/nlp_course/blob/master/week02_classification/seminar.ipynb\n",
        "\n"
      ]
    },
    {
      "metadata": {
        "id": "h2egNnNvkrga",
        "colab_type": "text"
      },
      "cell_type": "markdown",
      "source": [
        "# Task :\n",
        "\n",
        "Predicting job salary by using deep learning"
      ]
    },
    {
      "metadata": {
        "id": "pPrxyEtMkrgb",
        "colab_type": "text"
      },
      "cell_type": "markdown",
      "source": [
        "# Outline :\n",
        "\n",
        "1.\n",
        "\n",
        "2.\n",
        "\n",
        "3."
      ]
    },
    {
      "metadata": {
        "id": "FXm_wmPhkrgc",
        "colab_type": "text"
      },
      "cell_type": "markdown",
      "source": [
        "# Import packages for plotting graphs and manipulating data :"
      ]
    },
    {
      "metadata": {
        "id": "AjgnyLFEkrgd",
        "colab_type": "code",
        "colab": {}
      },
      "cell_type": "code",
      "source": [
        "import numpy as np\n",
        "import pandas as pd\n",
        "import matplotlib.pyplot as plt\n",
        "%matplotlib inline"
      ],
      "execution_count": 0,
      "outputs": []
    },
    {
      "metadata": {
        "id": "MDEA0Sh9krgg",
        "colab_type": "text"
      },
      "cell_type": "markdown",
      "source": [
        "# Load data :\n",
        "\n",
        "kaggle data,\n",
        "\n",
        "you can read more [in the official description](https://www.kaggle.com/c/job-salary-prediction/data)\n",
        "\n",
        "if you are first time, remove the comment (#)!"
      ]
    },
    {
      "metadata": {
        "id": "jexfRxJPkrgg",
        "colab_type": "code",
        "colab": {
          "base_uri": "https://localhost:8080/",
          "height": 125
        },
        "outputId": "3ad40f1a-8f2b-4e1d-c6ce-b2768c5b0187"
      },
      "cell_type": "code",
      "source": [
        "!curl -L https://www.dropbox.com/s/5msc5ix7ndyba10/Train_rev1.csv.tar.gz?dl=1 -o Train_rev1.csv.tar.gz\n",
        "!tar -xvzf ./Train_rev1.csv.tar.gz"
      ],
      "execution_count": 2,
      "outputs": [
        {
          "output_type": "stream",
          "text": [
            "  % Total    % Received % Xferd  Average Speed   Time    Time     Time  Current\n",
            "                                 Dload  Upload   Total   Spent    Left  Speed\n",
            "  0     0    0     0    0     0      0      0 --:--:-- --:--:-- --:--:--     0\n",
            "  0     0    0     0    0     0      0      0 --:--:-- --:--:-- --:--:--     0\n",
            "100  119M  100  119M    0     0  32.1M      0  0:00:03  0:00:03 --:--:-- 38.1M\n",
            "Train_rev1.csv\n"
          ],
          "name": "stdout"
        }
      ]
    },
    {
      "metadata": {
        "id": "BXnJx9pykrgk",
        "colab_type": "code",
        "colab": {}
      },
      "cell_type": "code",
      "source": [
        "data = pd.read_csv(\"./Train_rev1.csv\", index_col=None)"
      ],
      "execution_count": 0,
      "outputs": []
    },
    {
      "metadata": {
        "id": "srVQIcKfkrgl",
        "colab_type": "text"
      },
      "cell_type": "markdown",
      "source": [
        "# Analyze data :"
      ]
    },
    {
      "metadata": {
        "id": "Fi-bP1BSkrgm",
        "colab_type": "text"
      },
      "cell_type": "markdown",
      "source": [
        "224768 sample data with 12 features"
      ]
    },
    {
      "metadata": {
        "id": "sBEDJ7oekrgn",
        "colab_type": "code",
        "colab": {
          "base_uri": "https://localhost:8080/",
          "height": 323
        },
        "outputId": "fedbd774-022f-418d-912d-37f06d81bb14"
      },
      "cell_type": "code",
      "source": [
        "data.info()"
      ],
      "execution_count": 4,
      "outputs": [
        {
          "output_type": "stream",
          "text": [
            "<class 'pandas.core.frame.DataFrame'>\n",
            "RangeIndex: 244768 entries, 0 to 244767\n",
            "Data columns (total 12 columns):\n",
            "Id                    244768 non-null int64\n",
            "Title                 244767 non-null object\n",
            "FullDescription       244768 non-null object\n",
            "LocationRaw           244768 non-null object\n",
            "LocationNormalized    244768 non-null object\n",
            "ContractType          65442 non-null object\n",
            "ContractTime          180863 non-null object\n",
            "Company               212338 non-null object\n",
            "Category              244768 non-null object\n",
            "SalaryRaw             244768 non-null object\n",
            "SalaryNormalized      244768 non-null int64\n",
            "SourceName            244767 non-null object\n",
            "dtypes: int64(2), object(10)\n",
            "memory usage: 22.4+ MB\n"
          ],
          "name": "stdout"
        }
      ]
    },
    {
      "metadata": {
        "id": "lzaPI8Nykrgp",
        "colab_type": "text"
      },
      "cell_type": "markdown",
      "source": [
        "## Problem : Oddly distributed"
      ]
    },
    {
      "metadata": {
        "id": "9CEA_gIDkrgq",
        "colab_type": "text"
      },
      "cell_type": "markdown",
      "source": [
        "One problem with salary prediction is that it's oddly distributed\n",
        "\n",
        "The distribution is fat-tailed on the right side, which is inconvenient for MSE minimization"
      ]
    },
    {
      "metadata": {
        "id": "5uoQqbd9krgq",
        "colab_type": "code",
        "colab": {
          "base_uri": "https://localhost:8080/",
          "height": 265
        },
        "outputId": "4d715659-7b52-4692-d848-f4bcd786d114"
      },
      "cell_type": "code",
      "source": [
        "plt.figure(figsize=[8, 4])\n",
        "plt.hist(data[\"SalaryNormalized\"], bins=20);"
      ],
      "execution_count": 5,
      "outputs": [
        {
          "output_type": "display_data",
          "data": {
            "image/png": "[encoded data removed]",
            "text/plain": [
              "<Figure size 576x288 with 1 Axes>"
            ]
          },
          "metadata": {
            "tags": []
          }
        }
      ]
    },
    {
      "metadata": {
        "id": "7MLtmr3Ckrgt",
        "colab_type": "text"
      },
      "cell_type": "markdown",
      "source": [
        "There are several techniques to combat this :\n",
        "\n",
        "1. Using different loss function\n",
        "\n",
        "2. Predicting log-target instead of raw target\n",
        "\n",
        "3. Replacing targets with their percentiles among all salaries in the training set\n",
        "\n",
        "We gonna use __logarithm__ for now"
      ]
    },
    {
      "metadata": {
        "id": "QMeoMq2mkrgt",
        "colab_type": "code",
        "colab": {
          "base_uri": "https://localhost:8080/",
          "height": 265
        },
        "outputId": "63a42c77-7582-403e-f934-ad9945e982a4"
      },
      "cell_type": "code",
      "source": [
        "# Add 'Log1pSalary' column\n",
        "\n",
        "data['Log1pSalary'] = np.log1p(data['SalaryNormalized']).astype('float32')\n",
        "\n",
        "plt.hist(data['Log1pSalary'], bins=20);"
      ],
      "execution_count": 6,
      "outputs": [
        {
          "output_type": "display_data",
          "data": {
            "image/png": "[encoded data removed]",
            "text/plain": [
              "<Figure size 432x288 with 1 Axes>"
            ]
          },
          "metadata": {
            "tags": []
          }
        }
      ]
    },
    {
      "metadata": {
        "id": "JiCzwhUikrgw",
        "colab_type": "text"
      },
      "cell_type": "markdown",
      "source": [
        "Our task is to predict one number,__Log1pSalary__\n",
        "\n",
        "To do so, our model can access a number of features:\n",
        "\n",
        "- Free text : __Title__ , __FullDescription__\n",
        "\n",
        "- Categorical : __Category__, __Company__, __LocationNormalized__, __ContractType__, __ContractTime__\n"
      ]
    },
    {
      "metadata": {
        "id": "-2sHxGa2krgx",
        "colab_type": "code",
        "colab": {}
      },
      "cell_type": "code",
      "source": [
        "text_columns = [\"Title\", \"FullDescription\"]\n",
        "categorical_columns = [\"Category\", \"Company\", \"LocationNormalized\", \"ContractType\", \"ContractTime\"]\n",
        "target_column = \"Log1pSalary\""
      ],
      "execution_count": 0,
      "outputs": []
    },
    {
      "metadata": {
        "id": "gIFLEgAekrgz",
        "colab_type": "text"
      },
      "cell_type": "markdown",
      "source": [
        "## Handling null values :"
      ]
    },
    {
      "metadata": {
        "id": "dTxeMdtekrg1",
        "colab_type": "text"
      },
      "cell_type": "markdown",
      "source": [
        "__Title__, __ContractType__, __ContractTime__, __Company__, __SourceName__ columns have null values\n",
        "\n",
        "Use ```pandas.fillna(replacement)``` to remove null values"
      ]
    },
    {
      "metadata": {
        "id": "a5Gj1KbFkrg1",
        "colab_type": "code",
        "colab": {
          "base_uri": "https://localhost:8080/",
          "height": 269
        },
        "outputId": "914c9fb4-7df6-4145-f0b1-a55670592109"
      },
      "cell_type": "code",
      "source": [
        "data.isnull().sum()"
      ],
      "execution_count": 8,
      "outputs": [
        {
          "output_type": "execute_result",
          "data": {
            "text/plain": [
              "Id                         0\n",
              "Title                      1\n",
              "FullDescription            0\n",
              "LocationRaw                0\n",
              "LocationNormalized         0\n",
              "ContractType          179326\n",
              "ContractTime           63905\n",
              "Company                32430\n",
              "Category                   0\n",
              "SalaryRaw                  0\n",
              "SalaryNormalized           0\n",
              "SourceName                 1\n",
              "Log1pSalary                0\n",
              "dtype: int64"
            ]
          },
          "metadata": {
            "tags": []
          },
          "execution_count": 8
        }
      ]
    },
    {
      "metadata": {
        "id": "3kXXjfW1krg3",
        "colab_type": "code",
        "colab": {
          "base_uri": "https://localhost:8080/",
          "height": 269
        },
        "outputId": "2aaa9571-7307-4bd5-f4d3-d2a81c5da047"
      },
      "cell_type": "code",
      "source": [
        "data['Title']=data['Title'].fillna('')\n",
        "data[categorical_columns] = data[categorical_columns].fillna('NaN') # cast missing values to string \"NaN\"\n",
        "\n",
        "data.isnull().sum()"
      ],
      "execution_count": 9,
      "outputs": [
        {
          "output_type": "execute_result",
          "data": {
            "text/plain": [
              "Id                    0\n",
              "Title                 0\n",
              "FullDescription       0\n",
              "LocationRaw           0\n",
              "LocationNormalized    0\n",
              "ContractType          0\n",
              "ContractTime          0\n",
              "Company               0\n",
              "Category              0\n",
              "SalaryRaw             0\n",
              "SalaryNormalized      0\n",
              "SourceName            1\n",
              "Log1pSalary           0\n",
              "dtype: int64"
            ]
          },
          "metadata": {
            "tags": []
          },
          "execution_count": 9
        }
      ]
    },
    {
      "metadata": {
        "id": "pwtgfNhckrg6",
        "colab_type": "text"
      },
      "cell_type": "markdown",
      "source": [
        "## Show sample data :"
      ]
    },
    {
      "metadata": {
        "scrolled": false,
        "id": "6XRhpdvjkrg7",
        "colab_type": "code",
        "colab": {
          "base_uri": "https://localhost:8080/",
          "height": 332
        },
        "outputId": "13014e85-4605-4e75-e1f4-36b2b0dcce92"
      },
      "cell_type": "code",
      "source": [
        "data.sample(3)"
      ],
      "execution_count": 10,
      "outputs": [
        {
          "output_type": "execute_result",
          "data": {
            "text/html": [
              "<div>\n",
              "<style scoped>\n",
              "    .dataframe tbody tr th:only-of-type {\n",
              "        vertical-align: middle;\n",
              "    }\n",
              "\n",
              "    .dataframe tbody tr th {\n",
              "        vertical-align: top;\n",
              "    }\n",
              "\n",
              "    .dataframe thead th {\n",
              "        text-align: right;\n",
              "    }\n",
              "</style>\n",
              "<table border=\"1\" class=\"dataframe\">\n",
              "  <thead>\n",
              "    <tr style=\"text-align: right;\">\n",
              "      <th></th>\n",
              "      <th>Id</th>\n",
              "      <th>Title</th>\n",
              "      <th>FullDescription</th>\n",
              "      <th>LocationRaw</th>\n",
              "      <th>LocationNormalized</th>\n",
              "      <th>ContractType</th>\n",
              "      <th>ContractTime</th>\n",
              "      <th>Company</th>\n",
              "      <th>Category</th>\n",
              "      <th>SalaryRaw</th>\n",
              "      <th>SalaryNormalized</th>\n",
              "      <th>SourceName</th>\n",
              "      <th>Log1pSalary</th>\n",
              "    </tr>\n",
              "  </thead>\n",
              "  <tbody>\n",
              "    <tr>\n",
              "      <th>184719</th>\n",
              "      <td>71659378</td>\n",
              "      <td>Food And Beverage Manager Operations Live In</td>\n",
              "      <td>Food and Beverage Manager A food and Beverage ...</td>\n",
              "      <td>Aberdeen, Aberdeenshire, UK, Greater London</td>\n",
              "      <td>London</td>\n",
              "      <td>NaN</td>\n",
              "      <td>NaN</td>\n",
              "      <td>Network Hospitality Recruitment</td>\n",
              "      <td>Hospitality &amp; Catering Jobs</td>\n",
              "      <td>From 25,000 to 30,000 per annum</td>\n",
              "      <td>27500</td>\n",
              "      <td>jobs.catererandhotelkeeper.com</td>\n",
              "      <td>10.221977</td>\n",
              "    </tr>\n",
              "    <tr>\n",
              "      <th>233377</th>\n",
              "      <td>72480923</td>\n",
              "      <td>C I Engineer  Berkshire</td>\n",
              "      <td>Atkins is one of the country s leading designe...</td>\n",
              "      <td>Silchester</td>\n",
              "      <td>Silchester</td>\n",
              "      <td>NaN</td>\n",
              "      <td>permanent</td>\n",
              "      <td>Atkins Ltd   Defence Aerospace Comms</td>\n",
              "      <td>Other/General Jobs</td>\n",
              "      <td>MIN: 28000 MAX: 35000</td>\n",
              "      <td>31500</td>\n",
              "      <td>jobsite.co.uk</td>\n",
              "      <td>10.357775</td>\n",
              "    </tr>\n",
              "    <tr>\n",
              "      <th>205700</th>\n",
              "      <td>72118294</td>\n",
              "      <td>NPD Manufacturing Compliance Officer</td>\n",
              "      <td>Our client, an expanding Pharmaceutical compan...</td>\n",
              "      <td>West London, London</td>\n",
              "      <td>West London</td>\n",
              "      <td>NaN</td>\n",
              "      <td>permanent</td>\n",
              "      <td>SRG Clinical</td>\n",
              "      <td>Healthcare &amp; Nursing Jobs</td>\n",
              "      <td>25000 - 28000/annum</td>\n",
              "      <td>26500</td>\n",
              "      <td>cv-library.co.uk</td>\n",
              "      <td>10.184937</td>\n",
              "    </tr>\n",
              "  </tbody>\n",
              "</table>\n",
              "</div>"
            ],
            "text/plain": [
              "              Id                                         Title  \\\n",
              "184719  71659378  Food And Beverage Manager Operations Live In   \n",
              "233377  72480923                       C I Engineer  Berkshire   \n",
              "205700  72118294          NPD Manufacturing Compliance Officer   \n",
              "\n",
              "                                          FullDescription  \\\n",
              "184719  Food and Beverage Manager A food and Beverage ...   \n",
              "233377  Atkins is one of the country s leading designe...   \n",
              "205700  Our client, an expanding Pharmaceutical compan...   \n",
              "\n",
              "                                        LocationRaw LocationNormalized  \\\n",
              "184719  Aberdeen, Aberdeenshire, UK, Greater London             London   \n",
              "233377                                   Silchester         Silchester   \n",
              "205700                          West London, London        West London   \n",
              "\n",
              "       ContractType ContractTime                               Company  \\\n",
              "184719          NaN          NaN       Network Hospitality Recruitment   \n",
              "233377          NaN    permanent  Atkins Ltd   Defence Aerospace Comms   \n",
              "205700          NaN    permanent                          SRG Clinical   \n",
              "\n",
              "                           Category                        SalaryRaw  \\\n",
              "184719  Hospitality & Catering Jobs  From 25,000 to 30,000 per annum   \n",
              "233377           Other/General Jobs            MIN: 28000 MAX: 35000   \n",
              "205700    Healthcare & Nursing Jobs              25000 - 28000/annum   \n",
              "\n",
              "        SalaryNormalized                      SourceName  Log1pSalary  \n",
              "184719             27500  jobs.catererandhotelkeeper.com    10.221977  \n",
              "233377             31500                   jobsite.co.uk    10.357775  \n",
              "205700             26500                cv-library.co.uk    10.184937  "
            ]
          },
          "metadata": {
            "tags": []
          },
          "execution_count": 10
        }
      ]
    },
    {
      "metadata": {
        "id": "ebOcKKGBkrg9",
        "colab_type": "text"
      },
      "cell_type": "markdown",
      "source": [
        "# Preprocess data part :"
      ]
    },
    {
      "metadata": {
        "id": "apGTd5vpkrg9",
        "colab_type": "text"
      },
      "cell_type": "markdown",
      "source": [
        "Goal of this part is to __make data for use in deep learning__ \n",
        "\n",
        "1 . Convert each text columns to (integer) matrix \n",
        "\n",
        "2 . Convert each categorical columns by one-hot encoding "
      ]
    },
    {
      "metadata": {
        "id": "bCAkBGa2krg_",
        "colab_type": "text"
      },
      "cell_type": "markdown",
      "source": [
        "# 1. Preprocessing text data : \n",
        "\n",
        "Splitting raw text into sequences of tokens (words, punctuation, etc)\n",
        "\n",
        "To do this, we need three steps :\n",
        "\n",
        "1. To lowercase\n",
        "\n",
        "2. Tokenize\n",
        "\n",
        "3. Store the tokenized data as a space-separated string of tokens\n",
        "\n",
        "\n",
        "and Make (integer) matrix by using the vocabulary "
      ]
    },
    {
      "metadata": {
        "id": "L5zqFmjckrhA",
        "colab_type": "text"
      },
      "cell_type": "markdown",
      "source": [
        "## Show raw text of FullDescription : "
      ]
    },
    {
      "metadata": {
        "id": "-eLsuEBkkrhB",
        "colab_type": "code",
        "colab": {
          "base_uri": "https://localhost:8080/",
          "height": 107
        },
        "outputId": "14816ecd-f12b-4248-c67d-84cd189140cf"
      },
      "cell_type": "code",
      "source": [
        "print(\"Raw text:\")\n",
        "print(data[\"FullDescription\"][2::100000])"
      ],
      "execution_count": 11,
      "outputs": [
        {
          "output_type": "stream",
          "text": [
            "Raw text:\n",
            "2         Mathematical Modeller / Simulation Analyst / O...\n",
            "100002    A successful and high achieving specialist sch...\n",
            "200002    Web Designer  HTML, CSS, JavaScript, Photoshop...\n",
            "Name: FullDescription, dtype: object\n"
          ],
          "name": "stdout"
        }
      ]
    },
    {
      "metadata": {
        "id": "siD6bOzjkrhE",
        "colab_type": "text"
      },
      "cell_type": "markdown",
      "source": [
        "## Define preprocessing(raw_text) function :\n",
        "\n",
        "Apply above 3 steps to raw_text"
      ]
    },
    {
      "metadata": {
        "id": "ck84tuxekrhG",
        "colab_type": "code",
        "colab": {}
      },
      "cell_type": "code",
      "source": [
        "## 소문자로 바꾸고 토큰화 under Title,FullDescription\n",
        "## 결과를 공백으로 구분된 string으로 저장\n",
        "\n",
        "def preprocessing(raw_text):\n",
        "    \n",
        "    # Set tokenizer\n",
        "    import nltk\n",
        "    tokenizer = nltk.tokenize.WordPunctTokenizer()\n",
        "    \n",
        "    # To lowercase\n",
        "    result=''.join(list(map(str.lower,raw_text)))\n",
        "    \n",
        "    # Tokenize\n",
        "    result=tokenizer.tokenize(result)\n",
        "    \n",
        "    # Store data as a space-separated string of tokens\n",
        "    return ' '.join(result)"
      ],
      "execution_count": 0,
      "outputs": []
    },
    {
      "metadata": {
        "id": "dbj8HlfMkrhM",
        "colab_type": "text"
      },
      "cell_type": "markdown",
      "source": [
        "## Preprocessing the raw text :"
      ]
    },
    {
      "metadata": {
        "id": "fytv20dRkrhM",
        "colab_type": "code",
        "colab": {}
      },
      "cell_type": "code",
      "source": [
        "data['Title']=data['Title'].map(lambda x : preprocessing(x))"
      ],
      "execution_count": 0,
      "outputs": []
    },
    {
      "metadata": {
        "id": "7aYp-sawkrhO",
        "colab_type": "code",
        "colab": {}
      },
      "cell_type": "code",
      "source": [
        "data['FullDescription']=data['FullDescription'].map(lambda x : preprocessing(x))"
      ],
      "execution_count": 0,
      "outputs": []
    },
    {
      "metadata": {
        "id": "AjhTl1dzkrhQ",
        "colab_type": "text"
      },
      "cell_type": "markdown",
      "source": [
        "## Show the result : "
      ]
    },
    {
      "metadata": {
        "id": "3srfe0s-krhQ",
        "colab_type": "code",
        "colab": {
          "base_uri": "https://localhost:8080/",
          "height": 107
        },
        "outputId": "70657650-bd3d-4cf5-cbc2-277e4b31c461"
      },
      "cell_type": "code",
      "source": [
        "print(\"Tokenized:\")\n",
        "print(data[\"FullDescription\"][2::100000])\n",
        "assert data[\"FullDescription\"][2][:50] == 'mathematical modeller / simulation analyst / opera'\n",
        "assert data[\"Title\"][54321] == 'international digital account manager ( german )'"
      ],
      "execution_count": 15,
      "outputs": [
        {
          "output_type": "stream",
          "text": [
            "Tokenized:\n",
            "2         mathematical modeller / simulation analyst / o...\n",
            "100002    a successful and high achieving specialist sch...\n",
            "200002    web designer html , css , javascript , photosh...\n",
            "Name: FullDescription, dtype: object\n"
          ],
          "name": "stdout"
        }
      ]
    },
    {
      "metadata": {
        "id": "HQpKvCeUkrhU",
        "colab_type": "text"
      },
      "cell_type": "markdown",
      "source": [
        "# Make word-count vocabulary :"
      ]
    },
    {
      "metadata": {
        "id": "pDb553jfkrhU",
        "colab_type": "text"
      },
      "cell_type": "markdown",
      "source": [
        "we will use __Counter__ (in collections packages) to make vocabulary\n",
        "\n",
        "The usage of Counter is as follows\n",
        "\n",
        "Counter returns like dictionary"
      ]
    },
    {
      "metadata": {
        "id": "697fzNW8krhU",
        "colab_type": "code",
        "colab": {
          "base_uri": "https://localhost:8080/",
          "height": 53
        },
        "outputId": "003fab1d-ccf3-434a-bc2b-c19ea9db7990"
      },
      "cell_type": "code",
      "source": [
        "from collections import Counter\n",
        "\n",
        "lines=['hi how are you','i am fine thank you']\n",
        "\n",
        "# Split and flatten\n",
        "# why flatten?\n",
        "# if no flatten because split() returns list\n",
        "# , so the result would be list of list\n",
        "\n",
        "res=[y for line in lines for y in line.split()]\n",
        "print(res)\n",
        "\n",
        "print(Counter(res))"
      ],
      "execution_count": 16,
      "outputs": [
        {
          "output_type": "stream",
          "text": [
            "['hi', 'how', 'are', 'you', 'i', 'am', 'fine', 'thank', 'you']\n",
            "Counter({'you': 2, 'hi': 1, 'how': 1, 'are': 1, 'i': 1, 'am': 1, 'fine': 1, 'thank': 1})\n"
          ],
          "name": "stdout"
        }
      ]
    },
    {
      "metadata": {
        "id": "ny0iDhMrkrhX",
        "colab_type": "text"
      },
      "cell_type": "markdown",
      "source": [
        "## Concatenate 'Title' and 'FullDescription' columns :\n",
        "\n",
        "Is it okay?\n",
        "\n",
        "we'll only count the words,so it's okay to concatenate\n",
        "\n",
        "<br>\n",
        "\n",
        "__\\* CAUTION \\*__\n",
        "\n",
        "Because we handle space-separated string of tokens,\n",
        "\n",
        "we have to __insert ' '(blank space)__ in the middle of two cols when using '+' operator"
      ]
    },
    {
      "metadata": {
        "id": "aE6kow1CkrhX",
        "colab_type": "code",
        "colab": {
          "base_uri": "https://localhost:8080/",
          "height": 125
        },
        "outputId": "8fdfd270-e7cd-4839-c8ee-61f6aff308d8"
      },
      "cell_type": "code",
      "source": [
        "# example\n",
        "a=pd.DataFrame({'a':['hi','nice'],'b':['what','the']})\n",
        "b=pd.DataFrame({'a':['why','so'],'b':['fuck','me']})\n",
        "\n",
        "print(a+b)\n",
        "print(a+\" \"+b)"
      ],
      "execution_count": 17,
      "outputs": [
        {
          "output_type": "stream",
          "text": [
            "        a         b\n",
            "0   hiwhy  whatfuck\n",
            "1  niceso     theme\n",
            "         a          b\n",
            "0   hi why  what fuck\n",
            "1  nice so     the me\n"
          ],
          "name": "stdout"
        }
      ]
    },
    {
      "metadata": {
        "id": "6CniMzBvkrhb",
        "colab_type": "text"
      },
      "cell_type": "markdown",
      "source": [
        "## Build word-count vocabulary : "
      ]
    },
    {
      "metadata": {
        "id": "IRMVW46akrhc",
        "colab_type": "code",
        "colab": {}
      },
      "cell_type": "code",
      "source": [
        "## Concatenate two columns\n",
        "title_and_fullD=data['Title']+\" \"+data['FullDescription']\n",
        "\n",
        "## Split and flatten for Counting\n",
        "tokens=[y for line in title_and_fullD for y in line.split()]\n",
        "\n",
        "## Make word-count voca\n",
        "token_counts=Counter(tokens)"
      ],
      "execution_count": 0,
      "outputs": []
    },
    {
      "metadata": {
        "id": "cSNF2Jwjkrhd",
        "colab_type": "text"
      },
      "cell_type": "markdown",
      "source": [
        "## Show the result :"
      ]
    },
    {
      "metadata": {
        "id": "YGosoN2Mkrhd",
        "colab_type": "code",
        "colab": {
          "base_uri": "https://localhost:8080/",
          "height": 215
        },
        "outputId": "6d3b6b5d-5cc0-4426-877a-48b2e26edfc3"
      },
      "cell_type": "code",
      "source": [
        "print(\"Total unique tokens :\", len(token_counts))\n",
        "print('\\n'.join(map(str, token_counts.most_common(n=5))))\n",
        "print('...')\n",
        "print('\\n'.join(map(str, token_counts.most_common()[-3:])))\n",
        "\n",
        "assert token_counts.most_common(1)[0][1] in  range(2600000, 2700000)\n",
        "assert len(token_counts) in range(200000, 210000)\n",
        "print('Correct!')"
      ],
      "execution_count": 19,
      "outputs": [
        {
          "output_type": "stream",
          "text": [
            "Total unique tokens : 202704\n",
            "('and', 2657388)\n",
            "('.', 2523216)\n",
            "(',', 2318606)\n",
            "('the', 2080994)\n",
            "('to', 2019884)\n",
            "...\n",
            "('stephanietraveltraderecruitmnt', 1)\n",
            "('ruabon', 1)\n",
            "('lowehays', 1)\n",
            "Correct!\n"
          ],
          "name": "stdout"
        }
      ]
    },
    {
      "metadata": {
        "id": "P6tpQsTNkrhf",
        "colab_type": "code",
        "colab": {
          "base_uri": "https://localhost:8080/",
          "height": 279
        },
        "outputId": "bb5a6466-8115-4ee6-f470-9b7a795d906e"
      },
      "cell_type": "code",
      "source": [
        "# Let's see how many words are there for each count\n",
        "plt.hist(list(token_counts.values()), range=[0, 10**4], bins=50, log=True)\n",
        "plt.xlabel(\"Word counts\");"
      ],
      "execution_count": 20,
      "outputs": [
        {
          "output_type": "display_data",
          "data": {
            "image/png": "[encoded data removed]",
            "text/plain": [
              "<Figure size 432x288 with 1 Axes>"
            ]
          },
          "metadata": {
            "tags": []
          }
        }
      ]
    },
    {
      "metadata": {
        "id": "mQA1EbPUkrhh",
        "colab_type": "text"
      },
      "cell_type": "markdown",
      "source": [
        "## Remove infrequent tokens :\n",
        "\n",
        "Filter tokens a list of all tokens that occur at least 10 times"
      ]
    },
    {
      "metadata": {
        "id": "xNy39eWLkrhh",
        "colab_type": "code",
        "colab": {}
      },
      "cell_type": "code",
      "source": [
        "min_count = 10\n",
        "\n",
        "## tokens from token_counts keys that had at least min_count occurrences throughout the dataset\n",
        "tokens = [token for token in token_counts if token_counts[token]>=min_count]"
      ],
      "execution_count": 0,
      "outputs": []
    },
    {
      "metadata": {
        "id": "1zkpciV4krhk",
        "colab_type": "code",
        "colab": {
          "base_uri": "https://localhost:8080/",
          "height": 53
        },
        "outputId": "9979e3f4-0e8d-4a1d-efbc-6d10fd9ddd3a"
      },
      "cell_type": "code",
      "source": [
        "# Add a special tokens for unknown and empty words\n",
        "UNK, PAD = \"UNK\", \"PAD\"\n",
        "tokens = [UNK, PAD] + sorted(tokens)\n",
        "print(\"Vocabulary size:\", len(tokens))\n",
        "\n",
        "assert type(tokens) == list\n",
        "assert len(tokens) in range(32000, 35000)\n",
        "assert 'me' in tokens\n",
        "assert UNK in tokens\n",
        "print(\"Correct!\")"
      ],
      "execution_count": 22,
      "outputs": [
        {
          "output_type": "stream",
          "text": [
            "Vocabulary size: 34158\n",
            "Correct!\n"
          ],
          "name": "stdout"
        }
      ]
    },
    {
      "metadata": {
        "id": "6ud-GtrEkrhm",
        "colab_type": "text"
      },
      "cell_type": "markdown",
      "source": [
        "## Build an inverse token index :\n",
        "\n",
        "A dictionary from token to it's index(int) in tokens"
      ]
    },
    {
      "metadata": {
        "id": "c37Sh3_Ekrhn",
        "colab_type": "code",
        "colab": {}
      },
      "cell_type": "code",
      "source": [
        "## My Code\n",
        "token_to_id={}\n",
        "\n",
        "for token in tokens:\n",
        "    \n",
        "    token_to_id[token]=tokens.index(token)"
      ],
      "execution_count": 0,
      "outputs": []
    },
    {
      "metadata": {
        "id": "02jAbpvxkrhp",
        "colab_type": "code",
        "colab": {
          "base_uri": "https://localhost:8080/",
          "height": 35
        },
        "outputId": "544af778-648f-46c4-8b53-8c9c3b2d6132"
      },
      "cell_type": "code",
      "source": [
        "assert isinstance(token_to_id, dict)\n",
        "assert len(token_to_id) == len(tokens)\n",
        "for tok in tokens:\n",
        "    assert tokens[token_to_id[tok]] == tok\n",
        "\n",
        "print(\"Correct!\")"
      ],
      "execution_count": 24,
      "outputs": [
        {
          "output_type": "stream",
          "text": [
            "Correct!\n"
          ],
          "name": "stdout"
        }
      ]
    },
    {
      "metadata": {
        "id": "zaSXH6ZIkrhr",
        "colab_type": "text"
      },
      "cell_type": "markdown",
      "source": [
        "## Make neural network-digestible matrices by using vocabulary we've built :\n",
        "\n",
        "Map text line into integer (padding if necessary)\n",
        "\n"
      ]
    },
    {
      "metadata": {
        "id": "sDlcTmk0krhr",
        "colab_type": "code",
        "colab": {}
      },
      "cell_type": "code",
      "source": [
        "UNK_IX, PAD_IX = map(token_to_id.get, [UNK, PAD])\n",
        "\n",
        "def as_matrix(sequences, max_len=None):\n",
        "    \"\"\" Convert a list of tokens into a matrix with padding \"\"\"\n",
        "    if isinstance(sequences[0], str):\n",
        "        sequences = list(map(str.split, sequences))\n",
        "    \n",
        "    # seq의 최대 길이 구하고\n",
        "    max_len = min(max(map(len, sequences)), max_len or float('inf'))\n",
        "    \n",
        "    # 맨 처음 패드의 index값으로 채우고\n",
        "    matrix = np.full((len(sequences), max_len), np.int32(PAD_IX))\n",
        "    for i,seq in enumerate(sequences):\n",
        "        # 단어 길이만큼 matrix row에 할당\n",
        "        # 사전에 없는 단어는 UNK의 index값으로 채움\n",
        "        row_ix = [token_to_id.get(word, UNK_IX) for word in seq[:max_len]]\n",
        "        matrix[i, :len(row_ix)] = row_ix\n",
        "    \n",
        "    return matrix"
      ],
      "execution_count": 0,
      "outputs": []
    },
    {
      "metadata": {
        "id": "7OweDB7Ukrhs",
        "colab_type": "text"
      },
      "cell_type": "markdown",
      "source": [
        "## Example\n",
        "\n",
        "Sequences :\n",
        "\n",
        "line 1 ) engineering systems analyst\n",
        "\n",
        "line 2 ) hr assistant\n",
        "\n",
        "line 3 ) senior ec & i engineer\n",
        "\n",
        "<br>\n",
        "\n",
        "maximum length of sequences = 5 (line 3)\n",
        "\n",
        "so matrix : 3 x 5 mat\n",
        "\n",
        "<br>\n",
        "\n",
        "the length of line 1 is 3 \n",
        "\n",
        "so 3 will be filled with index values for the word, 2 will be padded \n",
        "\n",
        "\n",
        "\n",
        "\n"
      ]
    },
    {
      "metadata": {
        "id": "40ZQOsJVkrht",
        "colab_type": "code",
        "colab": {
          "base_uri": "https://localhost:8080/",
          "height": 233
        },
        "outputId": "10ec5e5e-0ad5-4564-9fdc-98e44bb212e0"
      },
      "cell_type": "code",
      "source": [
        "print(\"UNK의 index:\",UNK_IX)\n",
        "print(\"PAD의 index:\",PAD_IX,\"\\n\")\n",
        "# example\n",
        "print(\"Lines:\")\n",
        "print('\\n'.join(data[\"Title\"][::100000].values), end='\\n\\n')\n",
        "print(\"Matrix:\")\n",
        "print(as_matrix(data[\"Title\"][::100000]))"
      ],
      "execution_count": 26,
      "outputs": [
        {
          "output_type": "stream",
          "text": [
            "UNK의 index: 0\n",
            "PAD의 index: 1 \n",
            "\n",
            "Lines:\n",
            "engineering systems analyst\n",
            "hr assistant\n",
            "senior ec & i engineer\n",
            "\n",
            "Matrix:\n",
            "[[10807 30161  2166     1     1]\n",
            " [15020  2844     1     1     1]\n",
            " [27645 10201    16 15215 10804]]\n"
          ],
          "name": "stdout"
        }
      ]
    },
    {
      "metadata": {
        "id": "SmDrREIjkrhw",
        "colab_type": "text"
      },
      "cell_type": "markdown",
      "source": [
        "## 2. One-hot encoding for categorical columns :"
      ]
    },
    {
      "metadata": {
        "id": "htq2CWXbkrhw",
        "colab_type": "text"
      },
      "cell_type": "markdown",
      "source": [
        "Example , For 'Company' col"
      ]
    },
    {
      "metadata": {
        "id": "7eVxwoZwkrhw",
        "colab_type": "code",
        "colab": {
          "base_uri": "https://localhost:8080/",
          "height": 53
        },
        "outputId": "d564518a-dbc0-49c3-f3d3-2648b99de4ef"
      },
      "cell_type": "code",
      "source": [
        "from sklearn.feature_extraction import DictVectorizer\n",
        "\n",
        "# we only consider top-1k most frequent companies to minimize memory usage\n",
        "top_companies, top_counts = zip(*Counter(data['Company']).most_common(1000))\n",
        "recognized_companies = set(top_companies)\n",
        "data[\"Company\"] = data[\"Company\"].apply(lambda comp: comp if comp in recognized_companies else \"Other\")\n",
        "\n",
        "categorical_vectorizer = DictVectorizer(dtype=np.float32, sparse=False)\n",
        "categorical_vectorizer.fit(data[categorical_columns].apply(dict, axis=1))"
      ],
      "execution_count": 27,
      "outputs": [
        {
          "output_type": "execute_result",
          "data": {
            "text/plain": [
              "DictVectorizer(dtype=<class 'numpy.float32'>, separator='=', sort=True,\n",
              "        sparse=False)"
            ]
          },
          "metadata": {
            "tags": []
          },
          "execution_count": 27
        }
      ]
    },
    {
      "metadata": {
        "id": "FqefseYSkrhz",
        "colab_type": "text"
      },
      "cell_type": "markdown",
      "source": [
        "# The deep learning part"
      ]
    },
    {
      "metadata": {
        "id": "pdtM-K4ckrhz",
        "colab_type": "text"
      },
      "cell_type": "markdown",
      "source": [
        "As before, we won't focus too much on validation, opting for a simple train-test split.\n",
        "\n",
        "__To be completely rigorous__, we've comitted a small crime here: we used the whole data for tokenization and vocabulary building. A more strict way would be to do that part on training set only. You may want to do that and measure the magnitude of changes."
      ]
    },
    {
      "metadata": {
        "id": "MXAUns_ykrh0",
        "colab_type": "code",
        "colab": {
          "base_uri": "https://localhost:8080/",
          "height": 53
        },
        "outputId": "3f110850-b899-4d15-a10f-e04cfabf4736"
      },
      "cell_type": "code",
      "source": [
        "from sklearn.model_selection import train_test_split\n",
        "\n",
        "data_train, data_val = train_test_split(data, test_size=0.2, random_state=42)\n",
        "data_train.index = range(len(data_train))\n",
        "data_val.index = range(len(data_val))\n",
        "\n",
        "print(\"Train size = \", len(data_train))\n",
        "print(\"Validation size = \", len(data_val))"
      ],
      "execution_count": 28,
      "outputs": [
        {
          "output_type": "stream",
          "text": [
            "Train size =  195814\n",
            "Validation size =  48954\n"
          ],
          "name": "stdout"
        }
      ]
    },
    {
      "metadata": {
        "id": "dTB4WibHkrh4",
        "colab_type": "code",
        "colab": {}
      },
      "cell_type": "code",
      "source": [
        "def make_batch(data, max_len=None, word_dropout=0):\n",
        "    \"\"\"\n",
        "    Creates a keras-friendly dict from the batch data.\n",
        "    :param word_dropout: replaces token index with UNK_IX with this probability\n",
        "    :returns: a dict with {'title' : int64[batch, title_max_len]\n",
        "    \"\"\"\n",
        "    batch = {}\n",
        "    batch[\"Title\"] = as_matrix(data[\"Title\"].values, max_len)\n",
        "    batch[\"FullDescription\"] = as_matrix(data[\"FullDescription\"].values, max_len)\n",
        "    batch['Categorical'] = categorical_vectorizer.transform(data[categorical_columns].apply(dict, axis=1))\n",
        "    \n",
        "    if word_dropout != 0:\n",
        "        batch[\"FullDescription\"] = apply_word_dropout(batch[\"FullDescription\"], 1. - word_dropout)\n",
        "    \n",
        "    if target_column in data.columns:\n",
        "        batch[target_column] = data[target_column].values\n",
        "    \n",
        "    return batch\n",
        "\n",
        "def apply_word_dropout(matrix, keep_prop, replace_with=UNK_IX, pad_ix=PAD_IX,):\n",
        "    dropout_mask = np.random.choice(2, np.shape(matrix), p=[keep_prop, 1 - keep_prop])\n",
        "    dropout_mask &= matrix != pad_ix\n",
        "    return np.choose(dropout_mask, [matrix, np.full_like(matrix, replace_with)])"
      ],
      "execution_count": 0,
      "outputs": []
    },
    {
      "metadata": {
        "scrolled": true,
        "id": "vSrxFoPOkrh7",
        "colab_type": "code",
        "colab": {
          "base_uri": "https://localhost:8080/",
          "height": 251
        },
        "outputId": "74171d2f-02d1-41b6-f740-a883c2391af0"
      },
      "cell_type": "code",
      "source": [
        "make_batch(data_train[:3], max_len=10)"
      ],
      "execution_count": 30,
      "outputs": [
        {
          "output_type": "execute_result",
          "data": {
            "text/plain": [
              "{'Categorical': array([[0., 0., 0., ..., 0., 0., 0.],\n",
              "        [0., 0., 0., ..., 0., 0., 0.],\n",
              "        [0., 0., 0., ..., 0., 0., 0.]], dtype=float32),\n",
              " 'FullDescription': array([[27645, 29893, 33674, 32939,   982, 27645, 29893, 33674, 16451,\n",
              "         32939],\n",
              "        [29239,   197, 19175, 20042, 15554, 23162,  4051, 25511,   907,\n",
              "            82],\n",
              "        [30746, 21956, 20601,  6409, 16451,  8165, 27493,   982, 30412,\n",
              "         17746]], dtype=int32),\n",
              " 'Log1pSalary': array([ 9.71154 , 10.463132, 10.71444 ], dtype=float32),\n",
              " 'Title': array([[27645, 29893, 33674,     1,     1,     1,     1],\n",
              "        [29239,   197, 19175, 20042, 15554, 23162,  4051],\n",
              "        [10609, 30412, 17746,    33,  8705, 29157,    65]], dtype=int32)}"
            ]
          },
          "metadata": {
            "tags": []
          },
          "execution_count": 30
        }
      ]
    },
    {
      "metadata": {
        "id": "eHVOFZ3Hkrh9",
        "colab_type": "text"
      },
      "cell_type": "markdown",
      "source": [
        "# Architecture\n",
        "\n",
        "- Title encoder\n",
        "\n",
        "- Description encoder\n",
        "\n",
        "- Categorical features encoder\n",
        "\n",
        "We will then feed all 3 branches into one common network that predicts salary.\n",
        "\n",
        "This clearly doesn't fit into keras' __Sequential__ interface. To build such a network, one will have to use Keras Functional API."
      ]
    },
    {
      "metadata": {
        "id": "AZv9en8rkrh9",
        "colab_type": "text"
      },
      "cell_type": "markdown",
      "source": [
        "## Import packages for construction of model :"
      ]
    },
    {
      "metadata": {
        "id": "v18TjQIQkrh-",
        "colab_type": "code",
        "colab": {
          "base_uri": "https://localhost:8080/",
          "height": 35
        },
        "outputId": "8aea152a-29d4-4001-b717-1956b39cd42d"
      },
      "cell_type": "code",
      "source": [
        "import keras\n",
        "import keras.layers as L"
      ],
      "execution_count": 31,
      "outputs": [
        {
          "output_type": "stream",
          "text": [
            "Using TensorFlow backend.\n"
          ],
          "name": "stderr"
        }
      ]
    },
    {
      "metadata": {
        "id": "A9iXwg2tkriA",
        "colab_type": "code",
        "colab": {}
      },
      "cell_type": "code",
      "source": [
        "def build_model(n_tokens=len(tokens), n_cat_features=len(categorical_vectorizer.vocabulary_), hid_size=64):\n",
        "    \"\"\" Build a model that maps three data sources to a single linear output: predicted log1p(salary) \"\"\"\n",
        "    \n",
        "    l_title = L.Input(shape=[None], name=\"Title\")\n",
        "    l_descr = L.Input(shape=[None], name=\"FullDescription\")\n",
        "    l_categ = L.Input(shape=[n_cat_features], name=\"Categorical\")\n",
        "    \n",
        "    ## Build your monster!\n",
        "    \n",
        "    emb=L.Embedding(n_tokens,hid_size)\n",
        "    \n",
        "    l_title_emb=emb(l_title)\n",
        "    l_title_conv=L.Conv1D(hid_size,2,activation='relu')(l_title_emb)\n",
        "    output_title=L.GlobalMaxPooling1D()(l_title_conv)\n",
        "\n",
        "    \n",
        "    l_descr_emb=emb(l_descr)\n",
        "    l_descr_conv=L.Conv1D(hid_size,3,activation='relu')(l_descr_emb)\n",
        "    output_descr=L.GlobalMaxPool1D()(l_descr_conv)\n",
        "    \n",
        "    output_categ=L.Dense(hid_size)(l_categ)\n",
        "    \n",
        "    l_combined=L.Concatenate()([output_title,output_descr,output_categ])\n",
        "    l_combined_dense=L.Dense(2*hid_size,activation='relu')(l_combined)\n",
        "    \n",
        "    output_layer=L.Dense(1)(l_combined_dense)\n",
        "    \n",
        "    '''\n",
        "    hidden1=L.Embedding(n_tokens,hid_size)(l_title)\n",
        "    hidden1=L.Conv1D(hid_size,2,activation='relu')(hidden1)\n",
        "    output_title=L.GlobalMaxPooling1D()(hidden1)\n",
        "\n",
        "    \n",
        "    hidden2=L.Embedding(n_tokens,hid_size)(l_descr)\n",
        "    hidden2=L.Conv1D(hid_size,2,activation='relu')(hidden2)\n",
        "    output_descr=L.GlobalMaxPool1D()(hidden2)\n",
        "    \n",
        "    output_categ=L.Dense(hid_size)(l_categ)\n",
        "    \n",
        "   \n",
        "    concatenate=L.Concatenate()([output_title,output_descr,output_categ])\n",
        "    l_concatenate=L.Dense(2*hid_size,activation='relu')(concatenate)\n",
        "    \n",
        "    output_layer = L.Dense(1)(l_concatenate)\n",
        "    #output_layer=L.concatenate([output_title,output_descr,output_categ])\n",
        "    # end of your code\n",
        "    '''\n",
        "    model = keras.models.Model(inputs=[l_title, l_descr, l_categ], outputs=[output_layer])\n",
        "    model.compile('adam', 'mean_squared_error', metrics=['mean_absolute_error'])\n",
        "    \n",
        "    return model"
      ],
      "execution_count": 0,
      "outputs": []
    },
    {
      "metadata": {
        "scrolled": true,
        "id": "DP0TAV8kkriB",
        "colab_type": "code",
        "colab": {
          "base_uri": "https://localhost:8080/",
          "height": 629
        },
        "outputId": "d8e47c50-ca40-44b2-e3f1-c2e76daf3c48"
      },
      "cell_type": "code",
      "source": [
        "model = build_model()\n",
        "model.summary()\n",
        "\n",
        "dummy_pred = model.predict(make_batch(data_train[:100]))\n",
        "dummy_loss = model.train_on_batch(make_batch(data_train[:100]), data_train['Log1pSalary'][:100])[0]\n",
        "assert dummy_pred.shape == (100, 1)\n",
        "assert len(np.unique(dummy_pred)) > 20, \"model returns suspiciously few unique outputs. Check your initialization\"\n",
        "assert np.ndim(dummy_loss) == 0 and 0. <= dummy_loss <= 250., \"make sure you minimize MSE\""
      ],
      "execution_count": 56,
      "outputs": [
        {
          "output_type": "stream",
          "text": [
            "__________________________________________________________________________________________________\n",
            "Layer (type)                    Output Shape         Param #     Connected to                     \n",
            "==================================================================================================\n",
            "Title (InputLayer)              (None, None)         0                                            \n",
            "__________________________________________________________________________________________________\n",
            "FullDescription (InputLayer)    (None, None)         0                                            \n",
            "__________________________________________________________________________________________________\n",
            "embedding_17 (Embedding)        (None, None, 64)     2186112     Title[0][0]                      \n",
            "                                                                 FullDescription[0][0]            \n",
            "__________________________________________________________________________________________________\n",
            "conv1d_18 (Conv1D)              (None, None, 64)     8256        embedding_17[0][0]               \n",
            "__________________________________________________________________________________________________\n",
            "conv1d_19 (Conv1D)              (None, None, 64)     12352       embedding_17[1][0]               \n",
            "__________________________________________________________________________________________________\n",
            "Categorical (InputLayer)        (None, 3768)         0                                            \n",
            "__________________________________________________________________________________________________\n",
            "global_max_pooling1d_16 (Global (None, 64)           0           conv1d_18[0][0]                  \n",
            "__________________________________________________________________________________________________\n",
            "global_max_pooling1d_17 (Global (None, 64)           0           conv1d_19[0][0]                  \n",
            "__________________________________________________________________________________________________\n",
            "dense_17 (Dense)                (None, 64)           241216      Categorical[0][0]                \n",
            "__________________________________________________________________________________________________\n",
            "concatenate_8 (Concatenate)     (None, 192)          0           global_max_pooling1d_16[0][0]    \n",
            "                                                                 global_max_pooling1d_17[0][0]    \n",
            "                                                                 dense_17[0][0]                   \n",
            "__________________________________________________________________________________________________\n",
            "dense_18 (Dense)                (None, 128)          24704       concatenate_8[0][0]              \n",
            "__________________________________________________________________________________________________\n",
            "dense_19 (Dense)                (None, 1)            129         dense_18[0][0]                   \n",
            "==================================================================================================\n",
            "Total params: 2,472,769\n",
            "Trainable params: 2,472,769\n",
            "Non-trainable params: 0\n",
            "__________________________________________________________________________________________________\n"
          ],
          "name": "stdout"
        }
      ]
    },
    {
      "metadata": {
        "id": "PqfZgEjBkriD",
        "colab_type": "code",
        "colab": {}
      },
      "cell_type": "code",
      "source": [
        "def iterate_minibatches(data, batch_size=256, shuffle=True, cycle=False, **kwargs):\n",
        "    \"\"\" iterates minibatches of data in random order \"\"\"\n",
        "    while True:\n",
        "        indices = np.arange(len(data))\n",
        "        if shuffle:\n",
        "            indices = np.random.permutation(indices)\n",
        "\n",
        "        for start in range(0, len(indices), batch_size):\n",
        "            batch = make_batch(data.iloc[indices[start : start + batch_size]], **kwargs)\n",
        "            target = batch.pop(target_column)\n",
        "            yield batch, target\n",
        "        \n",
        "        if not cycle: break"
      ],
      "execution_count": 0,
      "outputs": []
    },
    {
      "metadata": {
        "id": "hq2nwLr3kriG",
        "colab_type": "code",
        "colab": {
          "base_uri": "https://localhost:8080/",
          "height": 415
        },
        "outputId": "31ffe7fd-48a6-4255-b2a1-132143a5dfab"
      },
      "cell_type": "code",
      "source": [
        "batch_size = 256\n",
        "epochs = 10            # definitely too small\n",
        "steps_per_epoch = 100  # for full pass over data: (len(data_train) - 1) // batch_size + 1\n",
        "\n",
        "model = build_model()\n",
        "\n",
        "model.fit_generator(iterate_minibatches(data_train, batch_size, cycle=True, word_dropout=0.05), \n",
        "                    epochs=epochs, steps_per_epoch=steps_per_epoch,\n",
        "                    \n",
        "                    validation_data=iterate_minibatches(data_val, batch_size, cycle=True),\n",
        "                    validation_steps=data_val.shape[0] // batch_size\n",
        "                   )"
      ],
      "execution_count": 58,
      "outputs": [
        {
          "output_type": "stream",
          "text": [
            "Epoch 1/10\n",
            "100/100 [==============================] - 126s 1s/step - loss: 18.6301 - mean_absolute_error: 2.7015 - val_loss: 0.2750 - val_mean_absolute_error: 0.4131\n",
            "Epoch 2/10\n",
            "100/100 [==============================] - 120s 1s/step - loss: 0.2188 - mean_absolute_error: 0.3623 - val_loss: 0.1852 - val_mean_absolute_error: 0.3300\n",
            "Epoch 3/10\n",
            "100/100 [==============================] - 120s 1s/step - loss: 0.1601 - mean_absolute_error: 0.3062 - val_loss: 0.1500 - val_mean_absolute_error: 0.2947\n",
            "Epoch 4/10\n",
            "100/100 [==============================] - 119s 1s/step - loss: 0.1374 - mean_absolute_error: 0.2807 - val_loss: 0.1335 - val_mean_absolute_error: 0.2767\n",
            "Epoch 5/10\n",
            "100/100 [==============================] - 120s 1s/step - loss: 0.1213 - mean_absolute_error: 0.2629 - val_loss: 0.1157 - val_mean_absolute_error: 0.2570\n",
            "Epoch 6/10\n",
            "100/100 [==============================] - 121s 1s/step - loss: 0.1102 - mean_absolute_error: 0.2508 - val_loss: 0.1111 - val_mean_absolute_error: 0.2512\n",
            "Epoch 7/10\n",
            "100/100 [==============================] - 118s 1s/step - loss: 0.1032 - mean_absolute_error: 0.2406 - val_loss: 0.0991 - val_mean_absolute_error: 0.2370\n",
            "Epoch 8/10\n",
            "100/100 [==============================] - 117s 1s/step - loss: 0.0938 - mean_absolute_error: 0.2287 - val_loss: 0.0936 - val_mean_absolute_error: 0.2295\n",
            "Epoch 9/10\n",
            "100/100 [==============================] - 117s 1s/step - loss: 0.0859 - mean_absolute_error: 0.2188 - val_loss: 0.0954 - val_mean_absolute_error: 0.2322\n",
            "Epoch 10/10\n",
            "100/100 [==============================] - 122s 1s/step - loss: 0.0828 - mean_absolute_error: 0.2146 - val_loss: 0.0889 - val_mean_absolute_error: 0.2230\n"
          ],
          "name": "stdout"
        },
        {
          "output_type": "execute_result",
          "data": {
            "text/plain": [
              "<keras.callbacks.History at 0x7f42e6665e48>"
            ]
          },
          "metadata": {
            "tags": []
          },
          "execution_count": 58
        }
      ]
    },
    {
      "metadata": {
        "id": "J1YYqDWakriI",
        "colab_type": "code",
        "colab": {
          "base_uri": "https://localhost:8080/",
          "height": 125
        },
        "outputId": "2054cc76-f464-48e4-dfb5-f94be14c6674"
      },
      "cell_type": "code",
      "source": [
        "def print_metrics(model, data, batch_size=batch_size, name=\"\", **kw):\n",
        "    squared_error = abs_error = num_samples = 0.0\n",
        "    for batch_x, batch_y in iterate_minibatches(data, batch_size=batch_size, shuffle=False, **kw):\n",
        "        batch_pred = model.predict(batch_x)[:, 0]\n",
        "        squared_error += np.sum(np.square(batch_pred - batch_y))\n",
        "        abs_error += np.sum(np.abs(batch_pred - batch_y))\n",
        "        num_samples += len(batch_y)\n",
        "    print(\"%s results:\" % (name or \"\"))\n",
        "    print(\"Mean square error: %.5f\" % (squared_error / num_samples))\n",
        "    print(\"Mean absolute error: %.5f\" % (abs_error / num_samples))\n",
        "    return squared_error, abs_error\n",
        "    \n",
        "print_metrics(model, data_train, name='Train')\n",
        "print_metrics(model, data_val, name='Val');"
      ],
      "execution_count": 59,
      "outputs": [
        {
          "output_type": "stream",
          "text": [
            "Train results:\n",
            "Mean square error: 0.07875\n",
            "Mean absolute error: 0.20874\n",
            "Val results:\n",
            "Mean square error: 0.08866\n",
            "Mean absolute error: 0.22277\n"
          ],
          "name": "stdout"
        }
      ]
    },
    {
      "metadata": {
        "id": "h9FuaPxzkriK",
        "colab_type": "code",
        "colab": {}
      },
      "cell_type": "code",
      "source": [
        "def explain(model, sample, col_name='Title'):\n",
        "    \"\"\" Computes the effect each word had on model predictions \"\"\"\n",
        "    sample = dict(sample)\n",
        "    sample_col_tokens = [tokens[token_to_id.get(tok, 0)] for tok in sample[col_name].split()]\n",
        "    data_drop_one_token = pd.DataFrame([sample] * (len(sample_col_tokens) + 1))\n",
        "\n",
        "    for drop_i in range(len(sample_col_tokens)):\n",
        "        data_drop_one_token.loc[drop_i, col_name] = ' '.join(UNK if i == drop_i else tok\n",
        "                                                   for i, tok in enumerate(sample_col_tokens)) \n",
        "\n",
        "    *predictions_drop_one_token, baseline_pred = model.predict(make_batch(data_drop_one_token))[:, 0]\n",
        "    diffs = baseline_pred - predictions_drop_one_token\n",
        "    return list(zip(sample_col_tokens, diffs))"
      ],
      "execution_count": 0,
      "outputs": []
    },
    {
      "metadata": {
        "id": "7s0yQ3w6kriL",
        "colab_type": "code",
        "colab": {}
      },
      "cell_type": "code",
      "source": [
        "from IPython.display import HTML, display_html\n",
        "\n",
        "def draw_html(tokens_and_weights, cmap=plt.get_cmap(\"bwr\"), display=True,\n",
        "              token_template=\"\"\"<span style=\"background-color: {color_hex}\">{token}</span>\"\"\",\n",
        "              font_style=\"font-size:14px;\"\n",
        "             ):\n",
        "    \n",
        "    def get_color_hex(weight):\n",
        "        rgba = cmap(1. / (1 + np.exp(weight)), bytes=True)\n",
        "        return '#%02X%02X%02X' % rgba[:3]\n",
        "    \n",
        "    tokens_html = [\n",
        "        token_template.format(token=token, color_hex=get_color_hex(weight))\n",
        "        for token, weight in tokens_and_weights\n",
        "    ]\n",
        "    \n",
        "    \n",
        "    raw_html = \"\"\"<p style=\"{}\">{}</p>\"\"\".format(font_style, ' '.join(tokens_html))\n",
        "    if display:\n",
        "        display_html(HTML(raw_html))\n",
        "        \n",
        "    return raw_html"
      ],
      "execution_count": 0,
      "outputs": []
    },
    {
      "metadata": {
        "id": "JbFkz2n7kriM",
        "colab_type": "code",
        "colab": {
          "base_uri": "https://localhost:8080/",
          "height": 348
        },
        "outputId": "5ea717a8-ab3e-4c51-b1ed-05544e2b56b3"
      },
      "cell_type": "code",
      "source": [
        "i = 36605\n",
        "tokens_and_weights = explain(model, data.loc[i], \"Title\")\n",
        "draw_html([(tok, weight * 5) for tok, weight in tokens_and_weights], font_style='font-size:20px;');\n",
        "\n",
        "tokens_and_weights = explain(model, data.loc[i], \"FullDescription\")\n",
        "draw_html([(tok, weight * 10) for tok, weight in tokens_and_weights]);"
      ],
      "execution_count": 62,
      "outputs": [
        {
          "output_type": "display_data",
          "data": {
            "text/html": [
              "<p style=\"font-size:20px;\"><span style=\"background-color: #4C4CFF\">sales</span> <span style=\"background-color: #3434FF\">specialist</span> <span style=\"background-color: #FFC6C6\">iv</span> <span style=\"background-color: #FFD6D6\">access</span> <span style=\"background-color: #FFE4E4\">and</span> <span style=\"background-color: #FFFAFA\">infusion</span></p>"
            ]
          },
          "metadata": {
            "tags": []
          }
        },
        {
          "output_type": "display_data",
          "data": {
            "text/html": [
              "<p style=\"font-size:14px;\"><span style=\"background-color: #FFFCFC\">sales</span> <span style=\"background-color: #FFFEFE\">representative</span> <span style=\"background-color: #FFEEEE\">medical</span> <span style=\"background-color: #FFF4F4\">sales</span> <span style=\"background-color: #FFE0E0\">iv</span> <span style=\"background-color: #FFD0D0\">access</span> <span style=\"background-color: #FFE8E8\">and</span> <span style=\"background-color: #FFD3D3\">infusion</span> <span style=\"background-color: #FFFEFE\">an</span> <span style=\"background-color: #FFF4F4\">opportunity</span> <span style=\"background-color: #FFFEFE\">to</span> <span style=\"background-color: #FFE8E8\">work</span> <span style=\"background-color: #FFE8E8\">for</span> <span style=\"background-color: #FFDEDE\">the</span> <span style=\"background-color: #FFE0E0\">industry</span> <span style=\"background-color: #FFFCFC\">leading</span> <span style=\"background-color: #FFFEFE\">manufacturer</span> <span style=\"background-color: #FFD0D0\">of</span> <span style=\"background-color: #FFD0D0\">iv</span> <span style=\"background-color: #FFCCCC\">access</span> <span style=\"background-color: #FFE8E8\">and</span> <span style=\"background-color: #FFBEBE\">infusion</span> <span style=\"background-color: #FEFEFF\">solutions</span> <span style=\"background-color: #FEFEFF\">.</span> <span style=\"background-color: #FFD3D3\">formally</span> <span style=\"background-color: #FFD0D0\">recognised</span> <span style=\"background-color: #FFCECE\">as</span> <span style=\"background-color: #FFE4E4\">the</span> <span style=\"background-color: #FFF2F2\">number</span> <span style=\"background-color: #FFF6F6\">****</span> <span style=\"background-color: #FFEEEE\">company</span> <span style=\"background-color: #FFE0E0\">in</span> <span style=\"background-color: #FFE6E6\">this</span> <span style=\"background-color: #FFF2F2\">market</span> <span style=\"background-color: #FFD8D8\">space</span> <span style=\"background-color: #FFD2D2\">,</span> <span style=\"background-color: #FFE4E4\">our</span> <span style=\"background-color: #FFC8C8\">client</span> <span style=\"background-color: #FFE8E8\">are</span> <span style=\"background-color: #FFE2E2\">an</span> <span style=\"background-color: #FFE4E4\">ethical</span> <span style=\"background-color: #FFE6E6\">and</span> <span style=\"background-color: #FFDCDC\">dynamic</span> <span style=\"background-color: #FFE0E0\">organisation</span> <span style=\"background-color: #FFE4E4\">absolutely</span> <span style=\"background-color: #FFF6F6\">committed</span> <span style=\"background-color: #FFBEBE\">to</span> <span style=\"background-color: #FFE8E8\">the</span> <span style=\"background-color: #FFDCDC\">advancement</span> <span style=\"background-color: #FFF4F4\">of</span> <span style=\"background-color: #FFD2D2\">innovative</span> <span style=\"background-color: #FFE6E6\">technologies</span> <span style=\"background-color: #FFF8F8\">.</span> <span style=\"background-color: #FFEAEA\">job</span> <span style=\"background-color: #FFFCFC\">title</span> <span style=\"background-color: #FFF4F4\">:</span> <span style=\"background-color: #FFC8C8\">sales</span> <span style=\"background-color: #FFE0E0\">specialist</span> <span style=\"background-color: #FFDCDC\">iv</span> <span style=\"background-color: #FFDEDE\">access</span> <span style=\"background-color: #FFE8E8\">and</span> <span style=\"background-color: #FFD8D8\">infusion</span> <span style=\"background-color: #F8F8FF\">selling</span> <span style=\"background-color: #F8F8FF\">:</span> <span style=\"background-color: #FFE6E6\">medication</span> <span style=\"background-color: #FFCCCC\">delivery</span> <span style=\"background-color: #FEFEFF\">solutions</span> <span style=\"background-color: #FFF0F0\">selling</span> <span style=\"background-color: #FFF6F6\">to</span> <span style=\"background-color: #FFFAFA\">:</span> <span style=\"background-color: #FFD0D0\">iv</span> <span style=\"background-color: #FFCACA\">teams</span> <span style=\"background-color: #FFD0D0\">,</span> <span style=\"background-color: #FFEAEA\">infection</span> <span style=\"background-color: #FFD0D0\">control</span> <span style=\"background-color: #FFECEC\">,</span> <span style=\"background-color: #FFF4F4\">lead</span> <span style=\"background-color: #FFE2E2\">intensive</span> <span style=\"background-color: #FFC3C3\">care</span> <span style=\"background-color: #FFFCFC\">nurse</span> <span style=\"background-color: #FFFCFC\">specialists</span> <span style=\"background-color: #FFCECE\">,</span> <span style=\"background-color: #FFE4E4\">ward</span> <span style=\"background-color: #FFE6E6\">managers</span> <span style=\"background-color: #FFD3D3\">territory</span> <span style=\"background-color: #FFD8D8\">:</span> <span style=\"background-color: #FFD6D6\">east</span> <span style=\"background-color: #FFDEDE\">midlands</span> <span style=\"background-color: #FFF6F6\">location</span> <span style=\"background-color: #FFCCCC\">:</span> <span style=\"background-color: #FFC8C8\">east</span> <span style=\"background-color: #FFDEDE\">midlands</span> <span style=\"background-color: #FFF6F6\">package</span> <span style=\"background-color: #FFD6D6\">:</span> <span style=\"background-color: #FFCCCC\">basic</span> <span style=\"background-color: #FFC0C0\">:</span> <span style=\"background-color: #FFDADA\">****</span> <span style=\"background-color: #FFEAEA\">k</span> <span style=\"background-color: #FFE8E8\">****</span> <span style=\"background-color: #E6E6FF\">k</span> <span style=\"background-color: #F3F3FF\">,</span> <span style=\"background-color: #FFDCDC\">uncapped</span> <span style=\"background-color: #FFF2F2\">bonus</span> <span style=\"background-color: #FFEEEE\">in</span> <span style=\"background-color: #FFD0D0\">addition</span> <span style=\"background-color: #F2F2FF\">,</span> <span style=\"background-color: #FFFAFA\">full</span> <span style=\"background-color: #FFBEBE\">corporate</span> <span style=\"background-color: #FFFEFE\">benefits</span> <span style=\"background-color: #FFE8E8\">company</span> <span style=\"background-color: #FFDEDE\">information</span> <span style=\"background-color: #FFECEC\">hugely</span> <span style=\"background-color: #FFFAFA\">ethical</span> <span style=\"background-color: #FFB0B0\">and</span> <span style=\"background-color: #FFC6C6\">professional</span> <span style=\"background-color: #FFFEFE\">global</span> <span style=\"background-color: #FFDCDC\">organisation</span> <span style=\"background-color: #FFD0D0\">extremely</span> <span style=\"background-color: #FFDEDE\">well</span> <span style=\"background-color: #FFCACA\">established</span> <span style=\"background-color: #FFDADA\">in</span> <span style=\"background-color: #FFDCDC\">the</span> <span style=\"background-color: #FFDADA\">uk</span> <span style=\"background-color: #FFE2E2\">the</span> <span style=\"background-color: #FFD3D3\">market</span> <span style=\"background-color: #FFE0E0\">leader</span> <span style=\"background-color: #FFC3C3\">across</span> <span style=\"background-color: #FFCCCC\">all</span> <span style=\"background-color: #FFDADA\">of</span> <span style=\"background-color: #FFD6D6\">their</span> <span style=\"background-color: #FFDEDE\">core</span> <span style=\"background-color: #FFCCCC\">business</span> <span style=\"background-color: #FFB8B8\">areas</span> <span style=\"background-color: #FFFEFE\">focus</span> <span style=\"background-color: #FFEEEE\">on</span> <span style=\"background-color: #FFDADA\">providing</span> <span style=\"background-color: #FFFAFA\">cutting</span> <span style=\"background-color: #FFF8F8\">edge</span> <span style=\"background-color: #FFEAEA\">solutions</span> <span style=\"background-color: #FFFEFE\">along</span> <span style=\"background-color: #FFD2D2\">with</span> <span style=\"background-color: #FFE0E0\">outstanding</span> <span style=\"background-color: #FFF6F6\">service</span> <span style=\"background-color: #FFE4E4\">and</span> <span style=\"background-color: #FFDEDE\">support</span> <span style=\"background-color: #FFF8F8\">a</span> <span style=\"background-color: #FFE8E8\">business</span> <span style=\"background-color: #FFD8D8\">that</span> <span style=\"background-color: #FFF4F4\">retain</span> <span style=\"background-color: #FFF2F2\">talented</span> <span style=\"background-color: #FFD3D3\">personnel</span> <span style=\"background-color: #FFFEFE\">by</span> <span style=\"background-color: #FFDADA\">offering</span> <span style=\"background-color: #FFE6E6\">a</span> <span style=\"background-color: #FFDEDE\">strong</span> <span style=\"background-color: #FFD2D2\">platform</span> <span style=\"background-color: #FFF2F2\">for</span> <span style=\"background-color: #FFD8D8\">career</span> <span style=\"background-color: #FFDEDE\">development</span> <span style=\"background-color: #FFCACA\">sales</span> <span style=\"background-color: #FFDADA\">specialist</span> <span style=\"background-color: #FFDCDC\">iv</span> <span style=\"background-color: #FFDEDE\">access</span> <span style=\"background-color: #FFE8E8\">and</span> <span style=\"background-color: #FFD6D6\">infusion</span> <span style=\"background-color: #FEFEFF\">you</span> <span style=\"background-color: #FEFEFF\">must</span> <span style=\"background-color: #FFE8E8\">have</span> <span style=\"background-color: #FFECEC\">/</span> <span style=\"background-color: #FFE2E2\">be</span> <span style=\"background-color: #FFD3D3\">the</span> <span style=\"background-color: #FFC2C2\">following</span> <span style=\"background-color: #FFDEDE\">at</span> <span style=\"background-color: #FFD8D8\">least</span> <span style=\"background-color: #FFDEDE\">2</span> <span style=\"background-color: #F2F2FF\">years</span> <span style=\"background-color: #FFFCFC\">medical</span> <span style=\"background-color: #F8F8FF\">device</span> <span style=\"background-color: #FFE2E2\">sales</span> <span style=\"background-color: #FFDEDE\">experience</span> <span style=\"background-color: #FFF8F8\">.</span> <span style=\"background-color: #FFD3D3\">candidates</span> <span style=\"background-color: #FFECEC\">who</span> <span style=\"background-color: #FFD2D2\">have</span> <span style=\"background-color: #FFE6E6\">sold</span> <span style=\"background-color: #FFC8C8\">disposables</span> <span style=\"background-color: #FFE0E0\">/</span> <span style=\"background-color: #FFF6F6\">consumables</span> <span style=\"background-color: #FFE2E2\">or</span> <span style=\"background-color: #FFCECE\">similar</span> <span style=\"background-color: #FFD6D6\">into</span> <span style=\"background-color: #FFDEDE\">hospitals</span> <span style=\"background-color: #FFCCCC\">would</span> <span style=\"background-color: #FFC8C8\">be</span> <span style=\"background-color: #FFECEC\">of</span> <span style=\"background-color: #FFCACA\">particular</span> <span style=\"background-color: #FFDADA\">interest</span> <span style=\"background-color: #FFDCDC\">.</span> <span style=\"background-color: #FFD3D3\">candidates</span> <span style=\"background-color: #FFECEC\">must</span> <span style=\"background-color: #FFD6D6\">have</span> <span style=\"background-color: #FFE4E4\">sold</span> <span style=\"background-color: #FFC8C8\">into</span> <span style=\"background-color: #FFC3C3\">hospitals</span> <span style=\"background-color: #FFC2C2\">demonstrable</span> <span style=\"background-color: #FFFCFC\">performance</span> <span style=\"background-color: #FFF6F6\">and</span> <span style=\"background-color: #FFECEC\">achievements</span> <span style=\"background-color: #FFFCFC\">so</span> <span style=\"background-color: #FFC8C8\">far</span> <span style=\"background-color: #FFE8E8\">personable</span> <span style=\"background-color: #FFF8F8\">,</span> <span style=\"background-color: #FFEAEA\">adaptable</span> <span style=\"background-color: #FFE6E6\">and</span> <span style=\"background-color: #FFE2E2\">willing</span> <span style=\"background-color: #FAFAFF\">to</span> <span style=\"background-color: #FFE4E4\">learn</span> <span style=\"background-color: #FFE0E0\">keen</span> <span style=\"background-color: #FFEEEE\">and</span> <span style=\"background-color: #FFD2D2\">eager</span> <span style=\"background-color: #FFFCFC\">to</span> <span style=\"background-color: #FFE6E6\">be</span> <span style=\"background-color: #FFE2E2\">a</span> <span style=\"background-color: #FFD2D2\">success</span> <span style=\"background-color: #FFECEC\">candidates</span> <span style=\"background-color: #FFD2D2\">must</span> <span style=\"background-color: #FFD3D3\">have</span> <span style=\"background-color: #FFF0F0\">a</span> <span style=\"background-color: #FFD6D6\">degree</span> <span style=\"background-color: #FFD6D6\">or</span> <span style=\"background-color: #FFBEBE\">at</span> <span style=\"background-color: #FFBEBE\">least</span> <span style=\"background-color: #FFF0F0\">be</span> <span style=\"background-color: #FFFEFE\">able</span> <span style=\"background-color: #FFD0D0\">to</span> <span style=\"background-color: #FFEEEE\">show</span> <span style=\"background-color: #FFE6E6\">a</span> <span style=\"background-color: #FFE8E8\">strong</span> <span style=\"background-color: #FFD8D8\">ability</span> <span style=\"background-color: #FFF2F2\">to</span> <span style=\"background-color: #FFF6F6\">learn</span> <span style=\"background-color: #FFE0E0\">role</span> <span style=\"background-color: #FFF4F4\">information</span> <span style=\"background-color: #FFF0F0\">managing</span> <span style=\"background-color: #FFF8F8\">the</span> <span style=\"background-color: #FFECEC\">east</span> <span style=\"background-color: #FFF0F0\">midlands</span> <span style=\"background-color: #FFFEFE\">region</span> <span style=\"background-color: #FFD2D2\">selling</span> <span style=\"background-color: #FFF8F8\">across</span> <span style=\"background-color: #FFF4F4\">the</span> <span style=\"background-color: #FFE2E2\">company</span> <span style=\"background-color: #FFECEC\">'</span> <span style=\"background-color: #FFF8F8\">s</span> <span style=\"background-color: #FFE2E2\">range</span> <span style=\"background-color: #FFD0D0\">of</span> <span style=\"background-color: #FFC6C6\">iv</span> <span style=\"background-color: #FFCCCC\">and</span> <span style=\"background-color: #FFCECE\">infusion</span> <span style=\"background-color: #FFFEFE\">solutions</span> <span style=\"background-color: #FFFEFE\">portfolio</span> <span style=\"background-color: #FFD0D0\">selling</span> <span style=\"background-color: #FEFEFF\">into</span> <span style=\"background-color: #FFEEEE\">lead</span> <span style=\"background-color: #FEFEFF\">intensive</span> <span style=\"background-color: #FFC3C3\">care</span> <span style=\"background-color: #FFFCFC\">nurse</span> <span style=\"background-color: #FFFCFC\">specialists</span> <span style=\"background-color: #FFCECE\">,</span> <span style=\"background-color: #FFDCDC\">ward</span> <span style=\"background-color: #FFE6E6\">managers</span> <span style=\"background-color: #FFD3D3\">,</span> <span style=\"background-color: #FFE6E6\">iv</span> <span style=\"background-color: #FFCECE\">teams</span> <span style=\"background-color: #FFD0D0\">,</span> <span style=\"background-color: #FFF2F2\">infection</span> <span style=\"background-color: #FFDADA\">control</span> <span style=\"background-color: #FFFCFC\">teams</span> <span style=\"background-color: #FFDADA\">,</span> <span style=\"background-color: #FFF8F8\">procurement</span> <span style=\"background-color: #FFECEC\">sales</span> <span style=\"background-color: #FFEEEE\">specialist</span> <span style=\"background-color: #FFDCDC\">iv</span> <span style=\"background-color: #FFDEDE\">access</span> <span style=\"background-color: #FFE8E8\">and</span> <span style=\"background-color: #FFD3D3\">infusion</span> <span style=\"background-color: #FFFEFE\">candidates</span> <span style=\"background-color: #FFF2F2\">must</span> <span style=\"background-color: #FFDADA\">be</span> <span style=\"background-color: #FFE2E2\">eligible</span> <span style=\"background-color: #FFE0E0\">to</span> <span style=\"background-color: #FFF2F2\">work</span> <span style=\"background-color: #FFE8E8\">and</span> <span style=\"background-color: #FFD2D2\">live</span> <span style=\"background-color: #FFFCFC\">in</span> <span style=\"background-color: #FFD2D2\">the</span> <span style=\"background-color: #FFC2C2\">uk</span> <span style=\"background-color: #FFCECE\">.</span> <span style=\"background-color: #FFCECE\">please</span> <span style=\"background-color: #FFFAFA\">contact</span> <span style=\"background-color: #FFC8C8\">allan</span> <span style=\"background-color: #FFBEBE\">waller</span> <span style=\"background-color: #FFE2E2\">on</span> <span style=\"background-color: #FFF8F8\">****</span> <span style=\"background-color: #FFEAEA\">****</span> <span style=\"background-color: #FFDCDC\">****</span> <span style=\"background-color: #FFDCDC\">or</span> <span style=\"background-color: #FFD0D0\">please</span> <span style=\"background-color: #FFCECE\">hit</span> <span style=\"background-color: #FFCECE\">the</span> <span style=\"background-color: #FFEAEA\">apply</span> <span style=\"background-color: #FFD6D6\">button</span> <span style=\"background-color: #FFC0C0\">.</span> <span style=\"background-color: #FFE4E4\">this</span> <span style=\"background-color: #FFFEFE\">job</span> <span style=\"background-color: #FFE6E6\">was</span> <span style=\"background-color: #FEFEFF\">originally</span> <span style=\"background-color: #FFF2F2\">posted</span> <span style=\"background-color: #FFB6B6\">as</span> <span style=\"background-color: #FFD8D8\">www</span> <span style=\"background-color: #FFE2E2\">.</span> <span style=\"background-color: #F8F8FF\">salestarget</span> <span style=\"background-color: #FFF4F4\">.</span> <span style=\"background-color: #FFD0D0\">co</span> <span style=\"background-color: #FFE2E2\">.</span> <span style=\"background-color: #FFDADA\">uk</span> <span style=\"background-color: #FFE2E2\">/</span> <span style=\"background-color: #FFDEDE\">jobseeking</span> <span style=\"background-color: #FFDEDE\">/</span> <span style=\"background-color: #FFFEFE\">UNK</span> <span style=\"background-color: #FFD0D0\">****</span></p>"
            ]
          },
          "metadata": {
            "tags": []
          }
        }
      ]
    },
    {
      "metadata": {
        "id": "0RjAwhhtkriO",
        "colab_type": "code",
        "colab": {
          "base_uri": "https://localhost:8080/",
          "height": 110
        },
        "outputId": "0a39c66b-b0d0-47c1-b5af-a1a10a01f15d"
      },
      "cell_type": "code",
      "source": [
        "i = 12077\n",
        "tokens_and_weights = explain(model, data.loc[i], \"Title\")\n",
        "draw_html([(tok, weight * 5) for tok, weight in tokens_and_weights], font_style='font-size:20px;');\n",
        "\n",
        "tokens_and_weights = explain(model, data.loc[i], \"FullDescription\")\n",
        "draw_html([(tok, weight * 10) for tok, weight in tokens_and_weights]);"
      ],
      "execution_count": 63,
      "outputs": [
        {
          "output_type": "display_data",
          "data": {
            "text/html": [
              "<p style=\"font-size:20px;\"><span style=\"background-color: #FF6C6C\">cleaning</span> <span style=\"background-color: #FFEEEE\">operative</span></p>"
            ]
          },
          "metadata": {
            "tags": []
          }
        },
        {
          "output_type": "display_data",
          "data": {
            "text/html": [
              "<p style=\"font-size:14px;\"><span style=\"background-color: #FFE6E6\">12</span> <span style=\"background-color: #FFDADA\">.</span> <span style=\"background-color: #F0F0FF\">5</span> <span style=\"background-color: #FFDCDC\">hours</span> <span style=\"background-color: #FFE0E0\">per</span> <span style=\"background-color: #FAFAFF\">week</span> <span style=\"background-color: #FFEAEA\">monday</span> <span style=\"background-color: #FFF0F0\">friday</span> <span style=\"background-color: #FFE8E8\">9am</span> <span style=\"background-color: #FFDCDC\">11</span> <span style=\"background-color: #FAFAFF\">.</span> <span style=\"background-color: #FEFEFF\">30am</span> <span style=\"background-color: #F6F6FF\">duties</span> <span style=\"background-color: #D2D2FF\">to</span> <span style=\"background-color: #E6E6FF\">include</span> <span style=\"background-color: #FFD3D3\">sweeping</span> <span style=\"background-color: #E3E3FF\">,</span> <span style=\"background-color: #B3B3FF\">mopping</span> <span style=\"background-color: #DCDCFF\">,</span> <span style=\"background-color: #FAFAFF\">vacuuming</span> <span style=\"background-color: #FFEAEA\">,</span> <span style=\"background-color: #FFF4F4\">buffing</span> <span style=\"background-color: #FFE8E8\">,</span> <span style=\"background-color: #FFFEFE\">cleaning</span> <span style=\"background-color: #FFD3D3\">staff</span> <span style=\"background-color: #FFFAFA\">toilets</span> <span style=\"background-color: #F6F6FF\">and</span> <span style=\"background-color: #FFF4F4\">rest</span> <span style=\"background-color: #FFCACA\">room</span> <span style=\"background-color: #E8E8FF\">.</span> <span style=\"background-color: #EEEEFF\">must</span> <span style=\"background-color: #FFECEC\">be</span> <span style=\"background-color: #FEFEFF\">able</span> <span style=\"background-color: #FCFCFF\">to</span> <span style=\"background-color: #FAFAFF\">read</span> <span style=\"background-color: #FFEAEA\">as</span> <span style=\"background-color: #FFFEFE\">they</span> <span style=\"background-color: #FFFCFC\">will</span> <span style=\"background-color: #FFECEC\">be</span> <span style=\"background-color: #FFE8E8\">using</span> <span style=\"background-color: #FFFEFE\">UNK</span> <span style=\"background-color: #FFE6E6\">which</span> <span style=\"background-color: #FFF6F6\">need</span> <span style=\"background-color: #FFFEFE\">UNK</span> <span style=\"background-color: #FFEEEE\">as</span> <span style=\"background-color: #FFFCFC\">per</span> <span style=\"background-color: #FFF0F0\">instructions</span> <span style=\"background-color: #FCFCFF\">on</span> <span style=\"background-color: #F3F3FF\">the</span> <span style=\"background-color: #FFECEC\">containers</span> <span style=\"background-color: #FEFEFF\">.</span> <span style=\"background-color: #FFF2F2\">sucessfull</span> <span style=\"background-color: #FFFEFE\">applicants</span> <span style=\"background-color: #FEFEFF\">will</span> <span style=\"background-color: #FFFEFE\">be</span> <span style=\"background-color: #FFFAFA\">trained</span> <span style=\"background-color: #FFCCCC\">on</span> <span style=\"background-color: #FFF8F8\">all</span> <span style=\"background-color: #FFFAFA\">electrical</span> <span style=\"background-color: #FFD8D8\">appliances</span> <span style=\"background-color: #F6F6FF\">and</span> <span style=\"background-color: #FFFEFE\">UNK</span> <span style=\"background-color: #EEEEFF\">of</span> <span style=\"background-color: #FFD2D2\">cleaning</span> <span style=\"background-color: #FFECEC\">materials</span> <span style=\"background-color: #FFFEFE\">.</span></p>"
            ]
          },
          "metadata": {
            "tags": []
          }
        }
      ]
    },
    {
      "metadata": {
        "id": "r97gAS1akriR",
        "colab_type": "code",
        "colab": {
          "base_uri": "https://localhost:8080/",
          "height": 299
        },
        "outputId": "850d8c4e-4398-4a9b-dace-84fe4e6962ba"
      },
      "cell_type": "code",
      "source": [
        "i = np.random.randint(len(data))\n",
        "print(\"Index:\", i)\n",
        "print(\"Salary (gbp):\", np.expm1(model.predict(make_batch(data.iloc[i: i+1]))[0, 0]))\n",
        "\n",
        "tokens_and_weights = explain(model, data.loc[i], \"Title\")\n",
        "draw_html([(tok, weight * 5) for tok, weight in tokens_and_weights], font_style='font-size:20px;');\n",
        "\n",
        "tokens_and_weights = explain(model, data.loc[i], \"FullDescription\")\n",
        "draw_html([(tok, weight * 10) for tok, weight in tokens_and_weights]);"
      ],
      "execution_count": 64,
      "outputs": [
        {
          "output_type": "stream",
          "text": [
            "Index: 159126\n",
            "Salary (gbp): 6501.6646\n"
          ],
          "name": "stdout"
        },
        {
          "output_type": "display_data",
          "data": {
            "text/html": [
              "<p style=\"font-size:20px;\"><span style=\"background-color: #F8F8FF\">year</span> <span style=\"background-color: #CACAFF\">4</span> <span style=\"background-color: #4444FF\">teacher</span> <span style=\"background-color: #BEBEFF\">needed</span> <span style=\"background-color: #FFF2F2\">in</span> <span style=\"background-color: #FFE6E6\">highbury</span> <span style=\"background-color: #FFEEEE\">and</span> <span style=\"background-color: #FFDCDC\">islington</span> <span style=\"background-color: #FFE0E0\">from</span> <span style=\"background-color: #FFEAEA\">april</span> <span style=\"background-color: #FFF4F4\">2013</span></p>"
            ]
          },
          "metadata": {
            "tags": []
          }
        },
        {
          "output_type": "display_data",
          "data": {
            "text/html": [
              "<p style=\"font-size:14px;\"><span style=\"background-color: #FFFEFE\">year</span> <span style=\"background-color: #FFE8E8\">4</span> <span style=\"background-color: #FFECEC\">teacher</span> <span style=\"background-color: #FEFEFF\">highbury</span> <span style=\"background-color: #FEFEFF\">and</span> <span style=\"background-color: #FFFEFE\">islington</span> <span style=\"background-color: #FFF2F2\">april</span> <span style=\"background-color: #FFFEFE\">20</span> <span style=\"background-color: #FFF6F6\">****</span> <span style=\"background-color: #FFFEFE\">3</span> <span style=\"background-color: #FFFEFE\">a</span> <span style=\"background-color: #FFF8F8\">lovely</span> <span style=\"background-color: #FFFAFA\">school</span> <span style=\"background-color: #FFFCFC\">based</span> <span style=\"background-color: #F8F8FF\">in</span> <span style=\"background-color: #FFE0E0\">highbury</span> <span style=\"background-color: #FFFEFE\">and</span> <span style=\"background-color: #FCFCFF\">islington</span> <span style=\"background-color: #FFF6F6\">are</span> <span style=\"background-color: #FFF6F6\">looking</span> <span style=\"background-color: #F3F3FF\">for</span> <span style=\"background-color: #FFDCDC\">a</span> <span style=\"background-color: #FFEAEA\">creative</span> <span style=\"background-color: #FFF4F4\">and</span> <span style=\"background-color: #FFFEFE\">motivated</span> <span style=\"background-color: #FFE2E2\">year</span> <span style=\"background-color: #FFE0E0\">4</span> <span style=\"background-color: #F0F0FF\">teacher</span> <span style=\"background-color: #D3D3FF\">.</span> <span style=\"background-color: #E8E8FF\">this</span> <span style=\"background-color: #FFE0E0\">maternity</span> <span style=\"background-color: #FFDEDE\">role</span> <span style=\"background-color: #FFFEFE\">will</span> <span style=\"background-color: #FFEEEE\">start</span> <span style=\"background-color: #FFE8E8\">from</span> <span style=\"background-color: #FFF6F6\">april</span> <span style=\"background-color: #FFFEFE\">2013</span> <span style=\"background-color: #FFF6F6\">until</span> <span style=\"background-color: #FFF4F4\">the</span> <span style=\"background-color: #FFEAEA\">rest</span> <span style=\"background-color: #FFFAFA\">of</span> <span style=\"background-color: #FFFEFE\">the</span> <span style=\"background-color: #FFE8E8\">school</span> <span style=\"background-color: #FFFAFA\">year</span> <span style=\"background-color: #FFF4F4\">.</span> <span style=\"background-color: #FFEEEE\">the</span> <span style=\"background-color: #FFD2D2\">position</span> <span style=\"background-color: #FFE4E4\">requires</span> <span style=\"background-color: #F8F8FF\">a</span> <span style=\"background-color: #FFD8D8\">confident</span> <span style=\"background-color: #FFECEC\">teacher</span> <span style=\"background-color: #FFFEFE\">who</span> <span style=\"background-color: #FFFEFE\">is</span> <span style=\"background-color: #FFFEFE\">willing</span> <span style=\"background-color: #FFECEC\">to</span> <span style=\"background-color: #FFFEFE\">share</span> <span style=\"background-color: #FFF0F0\">their</span> <span style=\"background-color: #FFF8F8\">skills</span> <span style=\"background-color: #FAFAFF\">and</span> <span style=\"background-color: #FFFCFC\">experience</span> <span style=\"background-color: #FFEAEA\">with</span> <span style=\"background-color: #FFE8E8\">other</span> <span style=\"background-color: #FFFAFA\">members</span> <span style=\"background-color: #FFFEFE\">of</span> <span style=\"background-color: #FAFAFF\">the</span> <span style=\"background-color: #FFEEEE\">team</span> <span style=\"background-color: #FEFEFF\">.</span> <span style=\"background-color: #FFFEFE\">the</span> <span style=\"background-color: #FFE4E4\">successful</span> <span style=\"background-color: #FFF2F2\">year</span> <span style=\"background-color: #FFE4E4\">4</span> <span style=\"background-color: #FFECEC\">teacher</span> <span style=\"background-color: #FEFEFF\">will</span> <span style=\"background-color: #FFFAFA\">be</span> <span style=\"background-color: #FFFAFA\">working</span> <span style=\"background-color: #FFECEC\">at</span> <span style=\"background-color: #FFECEC\">this</span> <span style=\"background-color: #FFF6F6\">wonderful</span> <span style=\"background-color: #FFECEC\">1</span> <span style=\"background-color: #FFFEFE\">form</span> <span style=\"background-color: #FFFEFE\">entry</span> <span style=\"background-color: #FFFEFE\">school</span> <span style=\"background-color: #FFF4F4\">,</span> <span style=\"background-color: #FFF6F6\">where</span> <span style=\"background-color: #FFE0E0\">children</span> <span style=\"background-color: #FFECEC\">come</span> <span style=\"background-color: #FFF0F0\">from</span> <span style=\"background-color: #FFF0F0\">diversity</span> <span style=\"background-color: #FFECEC\">backgrounds</span> <span style=\"background-color: #FFEAEA\">.</span> <span style=\"background-color: #FFFEFE\">in</span> <span style=\"background-color: #FFECEC\">their</span> <span style=\"background-color: #FFF6F6\">most</span> <span style=\"background-color: #FFF2F2\">recent</span> <span style=\"background-color: #FFEAEA\">ofsted</span> <span style=\"background-color: #FFECEC\">report</span> <span style=\"background-color: #FFEAEA\">they</span> <span style=\"background-color: #FFF2F2\">have</span> <span style=\"background-color: #FFDEDE\">been</span> <span style=\"background-color: #FFEAEA\">awarded</span> <span style=\"background-color: #FFFEFE\">'</span> <span style=\"background-color: #FFFCFC\">outstanding</span> <span style=\"background-color: #FFE4E4\">'.</span> <span style=\"background-color: #FFF8F8\">they</span> <span style=\"background-color: #FFF4F4\">have</span> <span style=\"background-color: #FFDEDE\">talented</span> <span style=\"background-color: #FFE2E2\">staff</span> <span style=\"background-color: #FFFEFE\">dedicated</span> <span style=\"background-color: #FFFEFE\">to</span> <span style=\"background-color: #FFFCFC\">teaching</span> <span style=\"background-color: #FFF2F2\">all</span> <span style=\"background-color: #FFFEFE\">pupils</span> <span style=\"background-color: #FFFEFE\">to</span> <span style=\"background-color: #FFFAFA\">the</span> <span style=\"background-color: #FFEAEA\">highest</span> <span style=\"background-color: #FFFCFC\">standards</span> <span style=\"background-color: #FFEAEA\">.</span> <span style=\"background-color: #FFEEEE\">to</span> <span style=\"background-color: #FFEAEA\">apply</span> <span style=\"background-color: #FFFEFE\">for</span> <span style=\"background-color: #FFF2F2\">this</span> <span style=\"background-color: #FAFAFF\">role</span> <span style=\"background-color: #FFF8F8\">,</span> <span style=\"background-color: #FFE0E0\">you</span> <span style=\"background-color: #FFEAEA\">will</span> <span style=\"background-color: #FFE6E6\">need</span> <span style=\"background-color: #FFE8E8\">to</span> <span style=\"background-color: #FFFAFA\">meet</span> <span style=\"background-color: #FFE8E8\">the</span> <span style=\"background-color: #FFF2F2\">following</span> <span style=\"background-color: #FFFEFE\">criteria</span> <span style=\"background-color: #FFEAEA\">:</span> <span style=\"background-color: #FFFEFE\">eligible</span> <span style=\"background-color: #FEFEFF\">to</span> <span style=\"background-color: #FFE6E6\">work</span> <span style=\"background-color: #FFDCDC\">in</span> <span style=\"background-color: #FFFCFC\">the</span> <span style=\"background-color: #FEFEFF\">uk</span> <span style=\"background-color: #FFECEC\">pgce</span> <span style=\"background-color: #F6F6FF\">,</span> <span style=\"background-color: #F6F6FF\">bachelor</span> <span style=\"background-color: #FFE0E0\">of</span> <span style=\"background-color: #FFFAFA\">education</span> <span style=\"background-color: #FFF2F2\">or</span> <span style=\"background-color: #FFFAFA\">hold</span> <span style=\"background-color: #FFD8D8\">an</span> <span style=\"background-color: #FFF0F0\">equivalent</span> <span style=\"background-color: #FFFAFA\">qualification</span> <span style=\"background-color: #FFF6F6\">from</span> <span style=\"background-color: #FFF8F8\">abroad</span> <span style=\"background-color: #FFF0F0\">qts</span> <span style=\"background-color: #FFDCDC\">crb</span> <span style=\"background-color: #F2F2FF\">,</span> <span style=\"background-color: #FFE8E8\">valid</span> <span style=\"background-color: #FFEAEA\">references</span> <span style=\"background-color: #FFC8C8\">and</span> <span style=\"background-color: #FFF8F8\">police</span> <span style=\"background-color: #FFE2E2\">checks</span> <span style=\"background-color: #FFE8E8\">please</span> <span style=\"background-color: #FAFAFF\">contact</span> <span style=\"background-color: #FFFEFE\">UNK</span> <span style=\"background-color: #FFFCFC\">at</span> <span style=\"background-color: #FFDADA\">np</span> <span style=\"background-color: #FFFEFE\">education</span> <span style=\"background-color: #FFF6F6\">to</span> <span style=\"background-color: #FFF4F4\">apply</span> <span style=\"background-color: #FFFCFC\">.</span> <span style=\"background-color: #FFF6F6\">np</span> <span style=\"background-color: #FFF0F0\">education</span> <span style=\"background-color: #FFF6F6\">works</span> <span style=\"background-color: #FFECEC\">in</span> <span style=\"background-color: #FFF6F6\">partnership</span> <span style=\"background-color: #FFE6E6\">with</span> <span style=\"background-color: #FFF8F8\">schools</span> <span style=\"background-color: #F3F3FF\">and</span> <span style=\"background-color: #F3F3FF\">academies</span> <span style=\"background-color: #FFF2F2\">throughout</span> <span style=\"background-color: #FFE2E2\">the</span> <span style=\"background-color: #EEEEFF\">uk</span> <span style=\"background-color: #FAFAFF\">to</span> <span style=\"background-color: #FFFEFE\">support</span> <span style=\"background-color: #FFFAFA\">the</span> <span style=\"background-color: #FFF6F6\">recruitment</span> <span style=\"background-color: #FFFEFE\">process</span> <span style=\"background-color: #F6F6FF\">for</span> <span style=\"background-color: #FFD3D3\">daytoday</span> <span style=\"background-color: #FFFEFE\">,</span> <span style=\"background-color: #FFEAEA\">shortterm</span> <span style=\"background-color: #FFECEC\">and</span> <span style=\"background-color: #FFFEFE\">longterm</span> <span style=\"background-color: #FFF6F6\">cover</span> <span style=\"background-color: #FFF8F8\">,</span> <span style=\"background-color: #FFF4F4\">and</span> <span style=\"background-color: #FFF6F6\">permanent</span> <span style=\"background-color: #FFDCDC\">contracts</span> <span style=\"background-color: #F3F3FF\">.</span> <span style=\"background-color: #F3F3FF\">from</span> <span style=\"background-color: #FFF4F4\">newly</span> <span style=\"background-color: #FEFEFF\">qualified</span> <span style=\"background-color: #ECECFF\">teachers</span> <span style=\"background-color: #F8F8FF\">to</span> <span style=\"background-color: #F2F2FF\">head</span> <span style=\"background-color: #FFFEFE\">teachers</span> <span style=\"background-color: #FFF4F4\">,</span> <span style=\"background-color: #FFFCFC\">we</span> <span style=\"background-color: #FFF4F4\">recruit</span> <span style=\"background-color: #FFFAFA\">across</span> <span style=\"background-color: #FFF8F8\">all</span> <span style=\"background-color: #F3F3FF\">phases</span> <span style=\"background-color: #F2F2FF\">of</span> <span style=\"background-color: #FFF8F8\">the</span> <span style=\"background-color: #FFE8E8\">education</span> <span style=\"background-color: #FFFCFC\">sector</span> <span style=\"background-color: #FCFCFF\">.</span> <span style=\"background-color: #FFF8F8\">np</span> <span style=\"background-color: #FFF0F0\">education</span> <span style=\"background-color: #FFFCFC\">is</span> <span style=\"background-color: #FFEEEE\">part</span> <span style=\"background-color: #FFFAFA\">of</span> <span style=\"background-color: #FFFEFE\">itn</span> <span style=\"background-color: #FFF4F4\">mark</span> <span style=\"background-color: #FFFEFE\">education</span> <span style=\"background-color: #FFFAFA\">,</span> <span style=\"background-color: #FFF6F6\">the</span> <span style=\"background-color: #FFEAEA\">leading</span> <span style=\"background-color: #FFFAFA\">education</span> <span style=\"background-color: #FFFEFE\">recruitment</span> <span style=\"background-color: #FFF0F0\">specialist</span> <span style=\"background-color: #FFFEFE\">with</span> <span style=\"background-color: #FFF4F4\">22</span> <span style=\"background-color: #FAFAFF\">offices</span> <span style=\"background-color: #FFFEFE\">across</span> <span style=\"background-color: #FFFEFE\">the</span> <span style=\"background-color: #FFE6E6\">uk</span> <span style=\"background-color: #FFECEC\">.</span> <span style=\"background-color: #FFFCFC\">itn</span> <span style=\"background-color: #FFF0F0\">mark</span> <span style=\"background-color: #FFFEFE\">education</span> <span style=\"background-color: #FFFAFA\">is</span> <span style=\"background-color: #FFFEFE\">an</span> <span style=\"background-color: #FFFCFC\">equal</span> <span style=\"background-color: #FFECEC\">opportunities</span> <span style=\"background-color: #FFFCFC\">employer</span> <span style=\"background-color: #FFFCFC\">.</span> <span style=\"background-color: #FFF6F6\">itn</span> <span style=\"background-color: #FFF0F0\">mark</span> <span style=\"background-color: #FFFEFE\">education</span> <span style=\"background-color: #F0F0FF\">is</span> <span style=\"background-color: #F6F6FF\">acting</span> <span style=\"background-color: #FCFCFF\">as</span> <span style=\"background-color: #F2F2FF\">an</span> <span style=\"background-color: #F3F3FF\">employment</span> <span style=\"background-color: #FAFAFF\">business</span> <span style=\"background-color: #F8F8FF\">in</span> <span style=\"background-color: #FFF8F8\">relation</span> <span style=\"background-color: #EAEAFF\">to</span> <span style=\"background-color: #FFFEFE\">this</span> <span style=\"background-color: #FFECEC\">vacancy</span> <span style=\"background-color: #FFDCDC\">.</span></p>"
            ]
          },
          "metadata": {
            "tags": []
          }
        }
      ]
    },
    {
      "metadata": {
        "id": "IWDL6W4FkriT",
        "colab_type": "code",
        "colab": {}
      },
      "cell_type": "code",
      "source": [
        ""
      ],
      "execution_count": 0,
      "outputs": []
    }
  ]
}